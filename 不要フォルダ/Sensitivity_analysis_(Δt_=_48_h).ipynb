{
  "cells": [
    {
      "cell_type": "markdown",
      "metadata": {
        "id": "view-in-github",
        "colab_type": "text"
      },
      "source": [
        "<a href=\"https://colab.research.google.com/github/kato-taki/optimization-of-cultured-meat/blob/main/Sensitivity_analysis_(%CE%94t_%3D_48_h).ipynb\" target=\"_parent\"><img src=\"https://colab.research.google.com/assets/colab-badge.svg\" alt=\"Open In Colab\"/></a>"
      ]
    },
    {
      "cell_type": "markdown",
      "source": [
        "# Input"
      ],
      "metadata": {
        "id": "fC3KnK_h5HQg"
      }
    },
    {
      "cell_type": "markdown",
      "metadata": {
        "id": "RvDwLziYNB33"
      },
      "source": [
        "## Import library\n"
      ]
    },
    {
      "cell_type": "code",
      "source": [
        "pip install SALib"
      ],
      "metadata": {
        "colab": {
          "base_uri": "https://localhost:8080/"
        },
        "id": "bxIBLokpzADc",
        "outputId": "1af9b690-6851-4e8a-8e1a-072dd01b5675"
      },
      "execution_count": null,
      "outputs": [
        {
          "output_type": "stream",
          "name": "stdout",
          "text": [
            "Requirement already satisfied: SALib in /usr/local/lib/python3.10/dist-packages (1.5.1)\n",
            "Requirement already satisfied: matplotlib>=3.5 in /usr/local/lib/python3.10/dist-packages (from SALib) (3.7.1)\n",
            "Requirement already satisfied: multiprocess in /usr/local/lib/python3.10/dist-packages (from SALib) (0.70.16)\n",
            "Requirement already satisfied: numpy>=1.20.3 in /usr/local/lib/python3.10/dist-packages (from SALib) (1.26.4)\n",
            "Requirement already satisfied: pandas>=2.0 in /usr/local/lib/python3.10/dist-packages (from SALib) (2.1.4)\n",
            "Requirement already satisfied: scipy>=1.9.3 in /usr/local/lib/python3.10/dist-packages (from SALib) (1.13.1)\n",
            "Requirement already satisfied: contourpy>=1.0.1 in /usr/local/lib/python3.10/dist-packages (from matplotlib>=3.5->SALib) (1.3.0)\n",
            "Requirement already satisfied: cycler>=0.10 in /usr/local/lib/python3.10/dist-packages (from matplotlib>=3.5->SALib) (0.12.1)\n",
            "Requirement already satisfied: fonttools>=4.22.0 in /usr/local/lib/python3.10/dist-packages (from matplotlib>=3.5->SALib) (4.53.1)\n",
            "Requirement already satisfied: kiwisolver>=1.0.1 in /usr/local/lib/python3.10/dist-packages (from matplotlib>=3.5->SALib) (1.4.5)\n",
            "Requirement already satisfied: packaging>=20.0 in /usr/local/lib/python3.10/dist-packages (from matplotlib>=3.5->SALib) (24.1)\n",
            "Requirement already satisfied: pillow>=6.2.0 in /usr/local/lib/python3.10/dist-packages (from matplotlib>=3.5->SALib) (9.4.0)\n",
            "Requirement already satisfied: pyparsing>=2.3.1 in /usr/local/lib/python3.10/dist-packages (from matplotlib>=3.5->SALib) (3.1.4)\n",
            "Requirement already satisfied: python-dateutil>=2.7 in /usr/local/lib/python3.10/dist-packages (from matplotlib>=3.5->SALib) (2.8.2)\n",
            "Requirement already satisfied: pytz>=2020.1 in /usr/local/lib/python3.10/dist-packages (from pandas>=2.0->SALib) (2024.1)\n",
            "Requirement already satisfied: tzdata>=2022.1 in /usr/local/lib/python3.10/dist-packages (from pandas>=2.0->SALib) (2024.1)\n",
            "Requirement already satisfied: dill>=0.3.8 in /usr/local/lib/python3.10/dist-packages (from multiprocess->SALib) (0.3.8)\n",
            "Requirement already satisfied: six>=1.5 in /usr/local/lib/python3.10/dist-packages (from python-dateutil>=2.7->matplotlib>=3.5->SALib) (1.16.0)\n"
          ]
        }
      ]
    },
    {
      "cell_type": "code",
      "execution_count": null,
      "metadata": {
        "id": "WIpLxRcFN9p5"
      },
      "outputs": [],
      "source": [
        "import numpy as np\n",
        "from scipy.integrate import solve_ivp\n",
        "import matplotlib.pyplot as plt\n",
        "import matplotlib.pyplot as plot\n",
        "import math\n",
        "import time\n",
        "from scipy.optimize import curve_fit\n",
        "from scipy.optimize import minimize\n",
        "import pandas as pd\n",
        "import random\n",
        "import statistics\n",
        "import csv\n",
        "from SALib.sample import saltelli\n",
        "from SALib.analyze import sobol"
      ]
    },
    {
      "cell_type": "markdown",
      "metadata": {
        "id": "amwQc1d3M10X"
      },
      "source": [
        "## Parameter value and Constant value\n"
      ]
    },
    {
      "cell_type": "code",
      "execution_count": null,
      "metadata": {
        "id": "JK-5_nl0uQPy"
      },
      "outputs": [],
      "source": [
        "# モデルパラメータの初期値およびin vitro実験データから直接推定できるモデルパラメータの推定値\n",
        "#動物細胞培養(C2C12マウス筋芽細胞)\n",
        "#播種密度\n",
        "X0_cell = 3.664e7     #cells/L, in vitro実験データを使用．\n",
        "#最大比増殖速度\n",
        "umax_cell   = 0.02650403895861364   #h-1, in vitro実験データから直接推定．\n",
        "#培地成分（グルコース，乳酸，グルタミン，アンモニア）濃度\n",
        "Cglc0_cell = 18.6505      #mmol/L, in vitro実験データを使用．\n",
        "Clac0_cell = 8.5887       #mmol/L, in vitro実験データを使用．\n",
        "Cgln0_cell = 1.4236       #mmol/L, in vitro実験データを使用．\n",
        "Camm0_cell = 0.83965      #mmol/L, in vitro実験データを使用．\n",
        "#増殖した細胞密度に対して代謝された培地成分（グルコース，乳酸，グルタミン，アンモニア）濃度の割合\n",
        "qglc_cell = 2.69362e-7    #ΔCglc/ΔX (mmol/cells), in vitro実験データから直接推定．\n",
        "qlac_cell = 3.88018e-7    #ΔClac/ΔX (mmol/cells), in vitro実験データから直接推定．\n",
        "qgln_cell = 5.04417e-9    #ΔCgln/ΔX (mmol/cells), in vitro実験データから直接推定．\n",
        "qamm_cell = 4.89619e-9   #ΔClac/ΔX (mmol/cells), in vitro実験データから直接推定．\n",
        "\n",
        "#藻類培養 (synechococcus sp.)\n",
        "#播種密度\n",
        "X0_algae = 4.667e10   #cells/L, in vitro実験データを使用．\n",
        "#最大比増殖速度\n",
        "umax_algae   = 0.0036386896950844827  #h-1\n",
        "#培地成分（グルコース，乳酸，グルタミン，アンモニア）濃度\n",
        "Cglc0_algae = 18.6505      #mmol/L, in vitro実験データを使用．\n",
        "Clac0_algae = 34.70       #mmol/L, in vitro実験データを使用．\n",
        "Cgln0_algae = 1.4236       #mmol/L, in vitro実験データを使用．\n",
        "Camm0_algae = 1.092      #mmol/L, in vitro実験データを使用．\n",
        "#増殖した細胞密度に対して代謝された培地成分（グルコース，乳酸，グルタミン，アンモニア）濃度の割合\n",
        "qglc_algae = 2.01938e-11  #ΔCglc/ΔX (mmol/cells), in vitro実験データから直接推定．\n",
        "qlac_algae = 1.43009e-9   #ΔClac/ΔX (mmol/cells), in vitro実験データから直接推定．\n",
        "qgln_algae = 1.35794e-11  #ΔCgln/ΔX (mmol/cells), in vitro実験データから直接推定．\n",
        "qamm_algae = 1.0020686773617621e-10  #ΔClac/ΔX (mmol/cells), in vitro実験データから直接推定．\n",
        "\n",
        "#藻類栄養素抽出\n",
        "#酸加水分解によるグルコース抽出定数\n",
        "kglc = 7.70751e-10  #mmol/cells"
      ]
    },
    {
      "cell_type": "code",
      "source": [
        "# モデルパラメータの標準偏差 (SD) および変動係数 (CV)\n",
        "#標準偏差 (SD)\n",
        "#動物細胞培養\n",
        "#初期細胞密度\n",
        "SD_X0_cell =  X0_cell*8.648e-2\n",
        "#最大比増殖速度\n",
        "SD_umax_cell = umax_cell*8.104e-2\n",
        "#主要成分のΔC/ΔX\n",
        "SD_qglc_cell = qglc_cell*8.041e-2\n",
        "SD_qgln_cell = qgln_cell*9.956e-2\n",
        "SD_qlac_cell = qlac_cell*6.476e-2\n",
        "SD_qamm_cell = qamm_cell*0.1323\n",
        "\n",
        "#藻類培養\n",
        "#播種密度\n",
        "SD_X0_algae = X0_algae*1.293e-2\n",
        "#最大比増殖速度\n",
        "SD_umax_algae = umax_algae*0.1597\n",
        "#主要成分のΔC/ΔX\n",
        "SD_qglc_algae = qlac_algae*2.417\n",
        "SD_qlac_algae = qlac_algae*0.2299\n",
        "SD_qamm_algae = qamm_algae*0.1705\n",
        "SD_qgln_algae = qgln_algae*1.201\n",
        "\n",
        "#微細藻類酸加水分解\n",
        "#酸加水分解によるグルコース抽出定数\n",
        "SD_kglc = kglc*0.207\n",
        "\n",
        "\n",
        "#変動係数 (CV)\n",
        "#播種操作のばらつき\n",
        "CV_X_cell_seed = 0.04\n",
        "#培地濃度\n",
        "#動物細胞培地\n",
        "CV_Cglc0_cell = 1.701e-2\n",
        "CV_Cgln0_cell = 6.962e-2\n",
        "CV_Clac0_cell = 3.366e-2\n",
        "CV_Camm0_cell = 0.1042\n",
        "\n",
        "#藻類培地\n",
        "CV_Cglc0_algae = 0.2072\n",
        "CV_Clac0_algae = 4.389e-3\n",
        "CV_Cgln0_algae = 0.1282\n",
        "CV_Camm0_algae = 8.478e-2"
      ],
      "metadata": {
        "id": "mTNOGfV6JinA"
      },
      "execution_count": null,
      "outputs": []
    },
    {
      "cell_type": "code",
      "execution_count": null,
      "metadata": {
        "id": "eIslgkCZvUFq"
      },
      "outputs": [],
      "source": [
        "# in vitro実験データから直接推定できないモデルパラメータの初期推定値\n",
        "#飽和定数KS\n",
        "#動物細胞\n",
        "Kglc = 0.582858586545957          #mmol/L, 文献データから引用．最小二乗法を使用してフィッティング．\n",
        "Kgln = 0.08698405384430127         #mmol/L, 文献データから引用．最小二乗法を使用してフィッティング．\n",
        "#藻類\n",
        "Kamm_algae = 0.012646183541878239  #mmol/L, 文献データから引用．最小二乗法を使用してフィッティング．\n",
        "\n",
        "#阻害定数KI\n",
        "Klac_cell = 218.0659005245161      #mmol/L, 文献データから引用．最小二乗法を使用してフィッティング．\n",
        "Kamm_cell = 18.40334468820725     #mmol/L, 文献データから引用．最小二乗法を使用してフィッティング．\n",
        "\n",
        "#グルタミン分解定数\n",
        "kd_gln = 0.000096 #h-1, 文献データから引用し，推定値とする．"
      ]
    },
    {
      "cell_type": "markdown",
      "source": [
        "## Experimental condition"
      ],
      "metadata": {
        "id": "meC0WBdFu6NZ"
      }
    },
    {
      "cell_type": "code",
      "execution_count": null,
      "metadata": {
        "id": "JyevdWffOJcR"
      },
      "outputs": [],
      "source": [
        "# 実験条件\n",
        "#1. CCC\n",
        "#サイクル数\n",
        "cycle_num = 2\n",
        "#藻類から抽出したグルコースを添加した割合\n",
        "k_hydrolysis = 5/100\n",
        "#培地体積\n",
        "V = 10 #L\n",
        "\n",
        "\n",
        "#2. 感度解析\n",
        "s = 32\n",
        "## 感度解析パラメータの数\n",
        "var = 21\n",
        "## 試行回数\n",
        "scale = s * (2 * var + 2) #scale = s * (2 * var + 2)"
      ]
    },
    {
      "cell_type": "markdown",
      "metadata": {
        "id": "lj_oXpSxNymJ"
      },
      "source": [
        "# Process"
      ]
    },
    {
      "cell_type": "markdown",
      "source": [
        "## Definition of culture process function"
      ],
      "metadata": {
        "id": "Vqn2fFVTt-rH"
      }
    },
    {
      "cell_type": "code",
      "source": [
        "# dtの定義\n",
        "dt = 0.05  # タイムステップの値\n",
        "\n",
        "#===============================================================================\n",
        "#動物細胞培養プロセス\n",
        "#===============================================================================\n",
        "def cell_culture(t, y):\n",
        "    X,Cglc,Clac,Cgln,Camm = y\n",
        "    #1. 比増殖速度\n",
        "    u = umax_cell *(Cglc/(Kglc+Cglc*(1+Clac/Klac_cell)))*(Cgln/(Kgln+Cgln*(1+Camm/Kamm_cell)))\n",
        "    #2. 増殖速度式\n",
        "    dXdt = u * X\n",
        "\n",
        "    #3. 代謝速度式\n",
        "    ##3.1 グルコース代謝\n",
        "    dCglcdt = -qglc_cell * u * X\n",
        "    ## Cglcが負の値をとらないようにする制約\n",
        "    if Cglc + dCglcdt * dt < 0:\n",
        "      dCglcdt = -Cglc / dt        # dt で割ることでタイムステップに基づいて調整\n",
        "    ##3.2 乳酸代謝\n",
        "    dClacdt = qlac_cell * u * X\n",
        "    ##3.3 グルタミン代謝\n",
        "    dCglndt = -qgln_cell * u * X - kd_gln * Cgln\n",
        "    ## Cglnが負の値をとらないようにする制約\n",
        "    if Cgln + dCglndt * dt < 0:\n",
        "      dCglndt = -Cgln / dt\n",
        "    ##3.4 アンモニア代謝\n",
        "    dCammdt = qamm_cell * u * X + kd_gln * Cgln\n",
        "\n",
        "    return [dXdt, dCglcdt, dClacdt, dCglndt, dCammdt]\n",
        "\n",
        "#動物細胞の比増殖速度\n",
        "def u_cell(Cglc, Clac, Cgln, Camm):\n",
        "  u = umax_cell *(Cglc/(Kglc+Cglc*(1+Clac/Klac_cell)))*(Cgln/(Kgln+Cgln*(1+Camm/Kamm_cell)))\n",
        "  return u\n",
        "\n",
        "\n",
        "#===============================================================================\n",
        "#藻類培養プロセス\n",
        "#===============================================================================\n",
        "def algae_culture(t, y):\n",
        "  X,Cglc,Clac,Cgln,Camm = y\n",
        "  #1. 比増殖速度\n",
        "  u = umax_algae *(Camm/(Kamm_algae+Camm))\n",
        "  #2. 増殖速度式\n",
        "  dXdt = u * X\n",
        "\n",
        "  #3. 代謝速度式\n",
        "  ##3.1 グルコース代謝\n",
        "  dCglcdt = qglc_algae * u * X\n",
        "  ##3.2 乳酸代謝\n",
        "  dClacdt = -qlac_algae * u * X\n",
        "  ## Clacが負の値をとらないようにする制約\n",
        "  if Clac + dClacdt * dt < 0:\n",
        "    dClacdt = -Clac / dt\n",
        "  ##3.3 グルタミン代謝\n",
        "  dCglndt = qgln_algae * u * X - kd_gln * Cgln\n",
        "  ##3.4 アンモニア代謝\n",
        "  dCammdt = -qamm_algae * u * X + kd_gln * Cgln\n",
        "  ## Cammが負の値をとらないようにする制約\n",
        "  if Camm + dCammdt * dt < 0:\n",
        "    dCammdt = -Camm / dt\n",
        "\n",
        "  return [dXdt, dCglcdt, dClacdt, dCglndt, dCammdt]\n",
        "\n",
        "#藻類の比増殖速度\n",
        "def u_algae(Camm):\n",
        "  u = umax_algae *(Camm/(Kamm_algae+Camm))\n",
        "  return u"
      ],
      "metadata": {
        "id": "e39R9dXmuFjL"
      },
      "execution_count": null,
      "outputs": []
    },
    {
      "cell_type": "markdown",
      "metadata": {
        "id": "fVielS5FP1w_"
      },
      "source": [
        "## Definition of CCC model"
      ]
    },
    {
      "cell_type": "code",
      "execution_count": null,
      "metadata": {
        "id": "72AIMhI9hcYN"
      },
      "outputs": [],
      "source": [
        "# CCCモデルの定義\n",
        "def CCC_model(umax_cell,umax_algae,qglc_cell,qlac_cell,qgln_cell,qamm_cell,qglc_algae,qlac_algae,qgln_algae,qamm_algae,kglc):\n",
        "\n",
        "  #=============================================================================\n",
        "  #CCCモデルの初期設定\n",
        "  #=============================================================================\n",
        "  #サンプルの生成\n",
        "  problem = {\n",
        "    'num_vars': var,\n",
        "    'names': ['x1', 'x2', 'x3', 'x4', 'x5', 'x6', 'x7', 'x8', 'x9', 'x10', 'x11', 'x12', 'x13', 'x14', 'x15', 'x16', 'x17', 'x18', 'x19', 'x20','x21'],\n",
        "    'bounds': [[X0_cell, 0.1*X0_cell],\n",
        "      [X0_algae,    0.1*X0_algae],\n",
        "      [umax_cell,   0.1*umax_cell],\n",
        "      [umax_algae,  0.1*umax_algae],\n",
        "      [qglc_cell,   0.1*qglc_cell],\n",
        "      [qlac_cell,   0.1*qlac_cell],\n",
        "      [qgln_cell,   0.1*qgln_cell],\n",
        "      [qamm_cell,   0.1*qamm_cell],\n",
        "      [qglc_algae,  0.1*qglc_algae],\n",
        "      [qlac_algae,  0.1*qlac_algae],\n",
        "      [qgln_algae,  0.1*qgln_algae],\n",
        "      [qamm_algae,  0.1*qamm_algae],\n",
        "      [Cglc0_cell,  Cglc0_cell  *0.1],\n",
        "      [Clac0_cell,  Clac0_cell  *0.1],\n",
        "      [Cgln0_cell,  Cgln0_cell  *0.1],\n",
        "      [Camm0_cell,  Camm0_cell  *0.1],\n",
        "      [Cglc0_algae, Cglc0_algae *0.1],\n",
        "      [Clac0_algae, Clac0_algae *0.1],\n",
        "      [Cgln0_algae, Cgln0_algae *0.1],\n",
        "      [Camm0_algae, Camm0_algae *0.1],\n",
        "      [kglc, 0.1*kglc]],\n",
        "    'dists': ['norm'] * var\n",
        "  }\n",
        "\n",
        "  inputs = saltelli.sample(problem, scale)\n",
        "\n",
        "  #モデルパラメータの経時変化を格納するリスト\n",
        "  ##動物細胞\n",
        "  list_X_cell     = [[]for i in range(scale)] #細胞密度\n",
        "  list_u_cell     = [[]for i in range(scale)]  #比増殖速度\n",
        "  list_Cglc_cell  = [[]for i in range(scale)] #グルコース濃度\n",
        "  list_Clac_cell  = [[]for i in range(scale)] #乳酸濃度\n",
        "  list_Cgln_cell  = [[]for i in range(scale)] #グルタミン濃度\n",
        "  list_Camm_cell  = [[]for i in range(scale)] #アンモニア\n",
        "  ##藻類\n",
        "  list_X_algae    = [[]for i in range(scale)] #細胞密度\n",
        "  list_u_algae    = [[]for i in range(scale)]  #比増殖速度\n",
        "  list_Cglc_algae = [[]for i in range(scale)] #グルコース濃度\n",
        "  list_Clac_algae = [[]for i in range(scale)] #乳酸濃度\n",
        "  list_Cgln_algae = [[]for i in range(scale)] #グルタミン濃度\n",
        "  list_Camm_algae = [[]for i in range(scale)] #アンモニア\n",
        "\n",
        "  #培地交換後の濃度を格納するリスト\n",
        "  ##動物細胞\n",
        "  list_Cglc_cell_i  = [[]for i in range(scale)] #グルコース濃度\n",
        "  list_Clac_cell_i  = [[]for i in range(scale)] #乳酸濃度\n",
        "  list_Cgln_cell_i  = [[]for i in range(scale)] #グルタミン濃度\n",
        "  list_Camm_cell_i  = [[]for i in range(scale)] #アンモニア濃度\n",
        "  ##藻類\n",
        "  list_Cglc_algae_i = [[]for i in range(scale)] #グルコース濃度\n",
        "  list_Clac_algae_i = [[]for i in range(scale)] #乳酸濃度\n",
        "  list_Cgln_algae_i = [[]for i in range(scale)] #グルタミン濃度\n",
        "  list_Camm_algae_i = [[]for i in range(scale)] #アンモニア濃度\n",
        "\n",
        "\n",
        "  #=============================================================================\n",
        "  #CCCモデルの実行\n",
        "  #=============================================================================\n",
        "  for n in range(scale):\n",
        "    #生成したサンプルから入力値を設定する\n",
        "    umax_cell   = inputs[n][2]\n",
        "    umax_algae  = inputs[n][3]\n",
        "    qglc_cell   = inputs[n][4]\n",
        "    qlac_cell   = inputs[n][5]\n",
        "    qgln_cell   = inputs[n][6]\n",
        "    qamm_cell   = inputs[n][7]\n",
        "    qglc_algae  = inputs[n][8]\n",
        "    qlac_algae  = inputs[n][9]\n",
        "    qgln_algae  = inputs[n][10]\n",
        "    qamm_algae  = inputs[n][11]\n",
        "    kglc        = inputs[n][20]\n",
        "\n",
        "\n",
        "    for i in range(cycle_num):\n",
        "      #===========================================================================\n",
        "      #1. 動物細胞培養プロセスの初期設定\n",
        "      #===========================================================================\n",
        "      # 1サイクル目の初期細胞密度と培地濃度の初期値の定義．\n",
        "      if i == 0:\n",
        "        #初期細胞密度\n",
        "        X0 = inputs[n][0]\n",
        "        #培地濃度\n",
        "        Cglc0 = inputs[n][12]\n",
        "        Clac0 = inputs[n][13]\n",
        "        Cgln0 = inputs[n][14]\n",
        "        Camm0 = inputs[n][15]\n",
        "        y0 = [X0, Cglc0, Clac0, Cgln0, Camm0]\n",
        "      # 2サイクル目の初期細胞密度と培地濃度の初期値の定義．\n",
        "      else:\n",
        "        #初期細胞密度\n",
        "        X0 = inputs[n][0]\n",
        "        #培地濃度\n",
        "        Cglc0 = list_Cglc_cell_i[n][-1]\n",
        "        Clac0 = list_Clac_cell_i[n][-1]\n",
        "        Cgln0 = list_Cgln_cell_i[n][-1]\n",
        "        Camm0 = list_Camm_cell_i[n][-1]\n",
        "        y0 = [X0, Cglc0, Clac0, Cgln0, Camm0]\n",
        "\n",
        "\n",
        "      #===========================================================================\n",
        "      #2. 動物細胞培養プロセスの実行\n",
        "      #===========================================================================\n",
        "      #培養期間の定義\n",
        "      t_period = 48 #h\n",
        "      t_span = (0, t_period)  # 時間範囲\n",
        "      t_eval = np.linspace(*t_span, 960)  # 評価する時間点\n",
        "      #動物細胞培養プロセスの計算\n",
        "      sol = solve_ivp(cell_culture, t_span, y0, t_eval=t_eval)\n",
        "\n",
        "      #リストに動物細胞培養の経時変化を格納する\n",
        "      list_X_cell[n].extend(sol.y[0])\n",
        "      list_Cglc_cell[n].extend(sol.y[1])\n",
        "      list_Clac_cell[n].extend(sol.y[2])\n",
        "      list_Cgln_cell[n].extend(sol.y[3])\n",
        "      list_Camm_cell[n].extend(sol.y[4])\n",
        "\n",
        "      #比増殖速度データの生成\n",
        "      for x in range(len(sol.t)):\n",
        "        list_u_cell[n].append(u_cell(sol.y[1][x],sol.y[2][x],sol.y[3][x],sol.y[4][x]))\n",
        "\n",
        "\n",
        "      #===========================================================================\n",
        "      #3. 藻類培養プロセスの初期設定\n",
        "      #===========================================================================\n",
        "      # 1サイクル目の初期細胞密度の定義．\n",
        "      if i == 0:\n",
        "        #初期細胞密度\n",
        "        X0 = inputs[n][1]\n",
        "        #培地濃度の初期値\n",
        "        Cglc0 = inputs[n][16]\n",
        "        Clac0 = inputs[n][17]\n",
        "        Cgln0 = inputs[n][18]\n",
        "        Camm0 = inputs[n][19]\n",
        "        y0 = [X0, Cglc0, Clac0, Cgln0, Camm0]\n",
        "      # 2サイクル目の初期細胞密度と培地濃度の初期値の定義．\n",
        "      else:\n",
        "        #初期細胞密度\n",
        "        X0 = inputs[n][1]\n",
        "        #培地濃度\n",
        "        Cglc0 = list_Cglc_algae_i[n][-1]\n",
        "        Clac0 = list_Clac_algae_i[n][-1]\n",
        "        Cgln0 = list_Cgln_algae_i[n][-1]\n",
        "        Camm0 = list_Camm_algae_i[n][-1]\n",
        "        y0 = [X0, Cglc0, Clac0, Cgln0, Camm0]\n",
        "\n",
        "\n",
        "      #===========================================================================\n",
        "      #4. 藻類培養プロセスの実行\n",
        "      #===========================================================================\n",
        "      #藻類培養プロセスの計算\n",
        "      sol = solve_ivp(algae_culture, t_span, y0, t_eval=t_eval)\n",
        "\n",
        "      #リストに藻類培養の経時変化を格納する\n",
        "      list_X_algae[n].extend(sol.y[0])\n",
        "      list_Cglc_algae[n].extend(sol.y[1])\n",
        "      list_Clac_algae[n].extend(sol.y[2])\n",
        "      list_Cgln_algae[n].extend(sol.y[3])\n",
        "      list_Camm_algae[n].extend(sol.y[4])\n",
        "\n",
        "      #比増殖速度データの生成\n",
        "      for x in range(len(sol.t)):\n",
        "        list_u_algae[n].append(u_algae(sol.y[4][x]))\n",
        "\n",
        "\n",
        "      #===========================================================================\n",
        "      #5. 藻類栄養素抽出プロセス\n",
        "      #===========================================================================\n",
        "      # 酸加水分解反応（藻類培地にグルコースを添加）\n",
        "      list_Cglc_algae[n][-1]  = list_Cglc_algae[n][-1] + k_hydrolysis*kglc*list_X_algae[n][-1]\n",
        "\n",
        "\n",
        "      #===========================================================================\n",
        "      #6. 培地交換プロセス\n",
        "      #===========================================================================\n",
        "      #動物細胞培地\n",
        "      list_Cglc_cell_i[n].append(list_Cglc_algae[n][-1])\n",
        "      list_Clac_cell_i[n].append(list_Clac_algae[n][-1])\n",
        "      list_Cgln_cell_i[n].append(list_Cgln_algae[n][-1])\n",
        "      list_Camm_cell_i[n].append(list_Camm_algae[n][-1])\n",
        "\n",
        "      #藻類培地\n",
        "      list_Cglc_algae_i[n].append(list_Cglc_cell[n][-1])\n",
        "      list_Clac_algae_i[n].append(list_Clac_cell[n][-1])\n",
        "      list_Cgln_algae_i[n].append(list_Cgln_cell[n][-1])\n",
        "      list_Camm_algae_i[n].append(list_Camm_cell[n][-1])\n",
        "\n",
        "\n",
        "  #===========================================================================\n",
        "  #CCCモデルの出力\n",
        "  #===========================================================================\n",
        "  #比増殖速度（感度解析したいモデルの出力）\n",
        "  Y = []\n",
        "  for i in range(scale):\n",
        "    Y.append(list_u_cell[i][-1])\n",
        "\n",
        "  #培地濃度(次の感度解析の入力)\n",
        "  list_outputs = [list_Cglc_cell_i,list_Clac_cell_i,list_Cgln_cell_i,list_Camm_cell_i,list_Cglc_algae_i,list_Clac_algae_i,list_Cgln_algae_i,list_Camm_algae_i]\n",
        "  next_inputs = np.zeros(len(list_outputs))\n",
        "  for i in range(len(next_inputs)):\n",
        "    next_inputs[i] = statistics.mean(list_outputs[i][j][-1]for j in range(scale))\n",
        "\n",
        "\n",
        "  return problem,Y,next_inputs"
      ]
    },
    {
      "cell_type": "markdown",
      "source": [
        "# Output"
      ],
      "metadata": {
        "id": "EHZd01Wr5wXg"
      }
    },
    {
      "cell_type": "markdown",
      "source": [
        "## Sensitivity analysis"
      ],
      "metadata": {
        "id": "2_sOrEzajquF"
      }
    },
    {
      "cell_type": "markdown",
      "source": [
        "### *t* = 96 h"
      ],
      "metadata": {
        "id": "V-qZ-dkfkHNq"
      }
    },
    {
      "cell_type": "code",
      "source": [
        "# Model outputs\n",
        "problem,Y,next_inputs = CCC_model(umax_cell,umax_algae,qglc_cell,qlac_cell,qgln_cell,qamm_cell,qglc_algae,qlac_algae,qgln_algae,qamm_algae,kglc)\n",
        "\n",
        "# Perform analysis\n",
        "Y = np.array(Y)\n",
        "Si = sobol.analyze(problem, Y, print_to_console=True)\n",
        "\n",
        "Si.plot()\n",
        "plot.show()"
      ],
      "metadata": {
        "colab": {
          "base_uri": "https://localhost:8080/"
        },
        "id": "dVsjfAJ4yUhz",
        "outputId": "c7463e39-537d-4f4e-8cc9-c0d5819413d7"
      },
      "execution_count": null,
      "outputs": [
        {
          "output_type": "stream",
          "name": "stderr",
          "text": [
            "<ipython-input-34-9d8d140970f3>:35: DeprecationWarning: `salib.sample.saltelli` will be removed in SALib 1.5.1 Please use `salib.sample.sobol`\n",
            "  inputs = saltelli.sample(problem, scale)\n",
            "/usr/local/lib/python3.10/dist-packages/SALib/sample/saltelli.py:110: UserWarning: \n",
            "        Convergence properties of the Sobol' sequence is only valid if\n",
            "        `N` (1408) is equal to `2^n`.\n",
            "        \n",
            "  warnings.warn(msg)\n",
            "/usr/local/lib/python3.10/dist-packages/SALib/util/__init__.py:274: FutureWarning: unique with argument that is not not a Series, Index, ExtensionArray, or np.ndarray is deprecated and will raise in a future version.\n",
            "  names = list(pd.unique(groups))\n",
            "/usr/local/lib/python3.10/dist-packages/SALib/util/__init__.py:274: FutureWarning: unique with argument that is not not a Series, Index, ExtensionArray, or np.ndarray is deprecated and will raise in a future version.\n",
            "  names = list(pd.unique(groups))\n"
          ]
        },
        {
          "output_type": "stream",
          "name": "stdout",
          "text": [
            "           ST   ST_conf\n",
            "x1   0.160504  0.436264\n",
            "x2   0.002840  0.010713\n",
            "x3   0.000000  0.000000\n",
            "x4   0.000000  0.000000\n",
            "x5   0.000000  0.000000\n",
            "x6   0.000000  0.000000\n",
            "x7   0.000000  0.000000\n",
            "x8   0.000000  0.000000\n",
            "x9   0.000000  0.000000\n",
            "x10  0.000000  0.000000\n",
            "x11  0.000000  0.000000\n",
            "x12  0.000000  0.000000\n",
            "x13  0.000000  0.000000\n",
            "x14  0.000000  0.000000\n",
            "x15  0.000000  0.000000\n",
            "x16  0.000000  0.000000\n",
            "x17  0.098416  0.328607\n",
            "x18  0.004185  0.013198\n",
            "x19  0.001185  0.003991\n",
            "x20  0.000471  0.001615\n",
            "x21  0.005140  0.022959\n",
            "           S1   S1_conf\n",
            "x1   0.475173  0.289953\n",
            "x2   0.016872  0.029371\n",
            "x3   0.000000  0.000000\n",
            "x4   0.000000  0.000000\n",
            "x5   0.000000  0.000000\n",
            "x6   0.000000  0.000000\n",
            "x7   0.000000  0.000000\n",
            "x8   0.000000  0.000000\n",
            "x9   0.000000  0.000000\n",
            "x10  0.000000  0.000000\n",
            "x11  0.000000  0.000000\n",
            "x12  0.000000  0.000000\n",
            "x13  0.000000  0.000000\n",
            "x14  0.000000  0.000000\n",
            "x15  0.000000  0.000000\n",
            "x16  0.000000  0.000000\n",
            "x17  0.340237  0.273617\n",
            "x18  0.033288  0.056741\n",
            "x19 -0.005262  0.029493\n",
            "x20 -0.010296  0.024965\n",
            "x21  0.012477  0.050269\n",
            "                  S2   S2_conf\n",
            "(x1, x2)   -0.149789  0.375702\n",
            "(x1, x3)   -0.132532  0.366401\n",
            "(x1, x4)   -0.132532  0.366401\n",
            "(x1, x5)   -0.132532  0.366401\n",
            "(x1, x6)   -0.132532  0.366401\n",
            "...              ...       ...\n",
            "(x18, x20) -0.033130  0.096358\n",
            "(x18, x21) -0.031280  0.097947\n",
            "(x19, x20)  0.007531  0.049476\n",
            "(x19, x21)  0.007540  0.048111\n",
            "(x20, x21)  0.024698  0.037266\n",
            "\n",
            "[210 rows x 2 columns]\n"
          ]
        },
        {
          "output_type": "display_data",
          "data": {
            "text/plain": [
              "<Figure size 640x480 with 3 Axes>"
            ],
            "image/png": "[encoded data removed]"
          },
          "metadata": {}
        }
      ]
    },
    {
      "cell_type": "markdown",
      "source": [
        "### *t* = 192 h"
      ],
      "metadata": {
        "id": "Dwdb37gZkVN2"
      }
    },
    {
      "cell_type": "code",
      "source": [
        "# Model inputs\n",
        "Cglc0_cell = next_inputs[0]\n",
        "Clac0_cell = next_inputs[1]\n",
        "Cgln0_cell = next_inputs[2]\n",
        "Camm0_cell = next_inputs[3]\n",
        "Cglc0_algae = next_inputs[4]\n",
        "Clac0_algae = next_inputs[5]\n",
        "Cgln0_algae = next_inputs[6]\n",
        "Camm0_algae = next_inputs[7]\n",
        "\n",
        "# Model outputs\n",
        "problem,Y,next_inputs = CCC_model(umax_cell,umax_algae,qglc_cell,qlac_cell,qgln_cell,qamm_cell,qglc_algae,qlac_algae,qgln_algae,qamm_algae,kglc)\n",
        "\n",
        "# Perform analysis (auto display)\n",
        "Y = np.array(Y)\n",
        "Si = sobol.analyze(problem, Y, print_to_console=True)\n",
        "\n",
        "Si.plot()\n",
        "plot.show()"
      ],
      "metadata": {
        "colab": {
          "base_uri": "https://localhost:8080/"
        },
        "outputId": "7592d1e2-66c5-4c6d-8575-9c86dcf12f4e",
        "id": "Bxu7dggLcq2U"
      },
      "execution_count": null,
      "outputs": [
        {
          "output_type": "stream",
          "name": "stderr",
          "text": [
            "<ipython-input-34-9d8d140970f3>:35: DeprecationWarning: `salib.sample.saltelli` will be removed in SALib 1.5.1 Please use `salib.sample.sobol`\n",
            "  inputs = saltelli.sample(problem, scale)\n",
            "/usr/local/lib/python3.10/dist-packages/SALib/sample/saltelli.py:110: UserWarning: \n",
            "        Convergence properties of the Sobol' sequence is only valid if\n",
            "        `N` (1408) is equal to `2^n`.\n",
            "        \n",
            "  warnings.warn(msg)\n",
            "/usr/local/lib/python3.10/dist-packages/SALib/util/__init__.py:274: FutureWarning: unique with argument that is not not a Series, Index, ExtensionArray, or np.ndarray is deprecated and will raise in a future version.\n",
            "  names = list(pd.unique(groups))\n",
            "/usr/local/lib/python3.10/dist-packages/SALib/util/__init__.py:274: FutureWarning: unique with argument that is not not a Series, Index, ExtensionArray, or np.ndarray is deprecated and will raise in a future version.\n",
            "  names = list(pd.unique(groups))\n"
          ]
        },
        {
          "output_type": "stream",
          "name": "stdout",
          "text": [
            "           ST   ST_conf\n",
            "x1   1.000275  0.255349\n",
            "x2   0.099447  0.089528\n",
            "x3   0.000000  0.000000\n",
            "x4   0.000000  0.000000\n",
            "x5   0.000000  0.000000\n",
            "x6   0.000000  0.000000\n",
            "x7   0.000000  0.000000\n",
            "x8   0.000000  0.000000\n",
            "x9   0.000000  0.000000\n",
            "x10  0.000000  0.000000\n",
            "x11  0.000000  0.000000\n",
            "x12  0.000000  0.000000\n",
            "x13  0.000000  0.000000\n",
            "x14  0.000000  0.000000\n",
            "x15  0.000000  0.000000\n",
            "x16  0.000000  0.000000\n",
            "x17  1.453726  1.415753\n",
            "x18  1.225768  1.230394\n",
            "x19  0.008229  0.035594\n",
            "x20  0.000503  0.000492\n",
            "x21  0.499154  0.470390\n",
            "           S1   S1_conf\n",
            "x1   0.381304  1.382342\n",
            "x2  -0.021772  0.193113\n",
            "x3   0.000000  0.000000\n",
            "x4   0.000000  0.000000\n",
            "x5   0.000000  0.000000\n",
            "x6   0.000000  0.000000\n",
            "x7   0.000000  0.000000\n",
            "x8   0.000000  0.000000\n",
            "x9   0.000000  0.000000\n",
            "x10  0.000000  0.000000\n",
            "x11  0.000000  0.000000\n",
            "x12  0.000000  0.000000\n",
            "x13  0.000000  0.000000\n",
            "x14  0.000000  0.000000\n",
            "x15  0.000000  0.000000\n",
            "x16  0.000000  0.000000\n",
            "x17 -0.088849  1.042980\n",
            "x18 -0.078905  0.267478\n",
            "x19 -0.006061  0.175891\n",
            "x20  0.001594  0.008865\n",
            "x21 -0.049954  0.126481\n",
            "                   S2    S2_conf\n",
            "(x1, x2)    32.968513  35.840897\n",
            "(x1, x3)    24.212573  26.646720\n",
            "(x1, x4)    24.212573  26.646720\n",
            "(x1, x5)    24.212573  26.646720\n",
            "(x1, x6)    24.212573  26.646720\n",
            "...               ...        ...\n",
            "(x18, x20)   0.072982   0.324199\n",
            "(x18, x21)   0.071541   0.323589\n",
            "(x19, x20)  -0.001766   0.289868\n",
            "(x19, x21)  -0.002127   0.293069\n",
            "(x20, x21)  -0.001970   0.012629\n",
            "\n",
            "[210 rows x 2 columns]\n"
          ]
        },
        {
          "output_type": "display_data",
          "data": {
            "text/plain": [
              "<Figure size 640x480 with 3 Axes>"
            ],
            "image/png": "[encoded data removed]"
          },
          "metadata": {}
        }
      ]
    },
    {
      "cell_type": "markdown",
      "source": [
        "### *t* = 288 h"
      ],
      "metadata": {
        "id": "0JSZfjPAkeCH"
      }
    },
    {
      "cell_type": "code",
      "source": [
        "# Model inputs\n",
        "Cglc0_cell = next_inputs[0]\n",
        "Clac0_cell = next_inputs[1]\n",
        "Cgln0_cell = next_inputs[2]\n",
        "Camm0_cell = next_inputs[3]\n",
        "Cglc0_algae = next_inputs[4]\n",
        "Clac0_algae = next_inputs[5]\n",
        "Cgln0_algae = next_inputs[6]\n",
        "Camm0_algae = next_inputs[7]\n",
        "\n",
        "# Model outputs\n",
        "problem,Y,next_inputs = CCC_model(umax_cell,umax_algae,qglc_cell,qlac_cell,qgln_cell,qamm_cell,qglc_algae,qlac_algae,qgln_algae,qamm_algae,kglc)\n",
        "\n",
        "# Perform analysis (auto display)\n",
        "Y = np.array(Y)\n",
        "Si = sobol.analyze(problem, Y, print_to_console=True)\n",
        "\n",
        "Si.plot()\n",
        "plot.show()"
      ],
      "metadata": {
        "colab": {
          "base_uri": "https://localhost:8080/"
        },
        "outputId": "ac986746-f05d-4d6b-ef9f-dd08515ac485",
        "id": "IL4kkqVZkeCX"
      },
      "execution_count": null,
      "outputs": [
        {
          "output_type": "stream",
          "name": "stderr",
          "text": [
            "<ipython-input-34-9d8d140970f3>:35: DeprecationWarning: `salib.sample.saltelli` will be removed in SALib 1.5.1 Please use `salib.sample.sobol`\n",
            "  inputs = saltelli.sample(problem, scale)\n",
            "/usr/local/lib/python3.10/dist-packages/SALib/sample/saltelli.py:110: UserWarning: \n",
            "        Convergence properties of the Sobol' sequence is only valid if\n",
            "        `N` (1408) is equal to `2^n`.\n",
            "        \n",
            "  warnings.warn(msg)\n",
            "/usr/local/lib/python3.10/dist-packages/SALib/util/__init__.py:274: FutureWarning: unique with argument that is not not a Series, Index, ExtensionArray, or np.ndarray is deprecated and will raise in a future version.\n",
            "  names = list(pd.unique(groups))\n",
            "/usr/local/lib/python3.10/dist-packages/SALib/util/__init__.py:274: FutureWarning: unique with argument that is not not a Series, Index, ExtensionArray, or np.ndarray is deprecated and will raise in a future version.\n",
            "  names = list(pd.unique(groups))\n"
          ]
        },
        {
          "output_type": "stream",
          "name": "stdout",
          "text": [
            "           ST   ST_conf\n",
            "x1   1.621157  2.909732\n",
            "x2   1.247868  4.272934\n",
            "x3   0.000000  0.000000\n",
            "x4   0.000000  0.000000\n",
            "x5   0.000000  0.000000\n",
            "x6   0.000000  0.000000\n",
            "x7   0.000000  0.000000\n",
            "x8   0.000000  0.000000\n",
            "x9   0.000000  0.000000\n",
            "x10  0.000000  0.000000\n",
            "x11  0.000000  0.000000\n",
            "x12  0.000000  0.000000\n",
            "x13  0.000000  0.000000\n",
            "x14  0.000000  0.000000\n",
            "x15  0.000000  0.000000\n",
            "x16  0.000000  0.000000\n",
            "x17  0.000334  0.001111\n",
            "x18  0.493266  1.157511\n",
            "x19  1.100633  3.560078\n",
            "x20  0.237788  0.412157\n",
            "x21  0.690006  1.749729\n",
            "           S1   S1_conf\n",
            "x1   0.260343  0.616618\n",
            "x2  -0.221749  0.534966\n",
            "x3   0.000000  0.000000\n",
            "x4   0.000000  0.000000\n",
            "x5   0.000000  0.000000\n",
            "x6   0.000000  0.000000\n",
            "x7   0.000000  0.000000\n",
            "x8   0.000000  0.000000\n",
            "x9   0.000000  0.000000\n",
            "x10  0.000000  0.000000\n",
            "x11  0.000000  0.000000\n",
            "x12  0.000000  0.000000\n",
            "x13  0.000000  0.000000\n",
            "x14  0.000000  0.000000\n",
            "x15  0.000000  0.000000\n",
            "x16  0.000000  0.000000\n",
            "x17  0.002148  0.007119\n",
            "x18 -0.143036  0.269646\n",
            "x19 -0.143180  0.515312\n",
            "x20 -0.065810  0.134394\n",
            "x21 -0.106112  0.358531\n",
            "                  S2   S2_conf\n",
            "(x1, x2)    2.448224  3.648933\n",
            "(x1, x3)    1.748778  3.064953\n",
            "(x1, x4)    1.748778  3.064953\n",
            "(x1, x5)    1.748778  3.064953\n",
            "(x1, x6)    1.748778  3.064953\n",
            "...              ...       ...\n",
            "(x18, x20)  0.018556  0.952488\n",
            "(x18, x21)  0.050433  0.817584\n",
            "(x19, x20)  0.118875  0.483205\n",
            "(x19, x21)  0.111658  0.431027\n",
            "(x20, x21)  0.060670  0.168483\n",
            "\n",
            "[210 rows x 2 columns]\n"
          ]
        },
        {
          "output_type": "display_data",
          "data": {
            "text/plain": [
              "<Figure size 640x480 with 3 Axes>"
            ],
            "image/png": "[encoded data removed]"
          },
          "metadata": {}
        }
      ]
    },
    {
      "cell_type": "markdown",
      "source": [
        "### *t* = 384 h"
      ],
      "metadata": {
        "id": "FgZ4pt2-kfbv"
      }
    },
    {
      "cell_type": "code",
      "source": [
        "# Model inputs\n",
        "Cglc0_cell = next_inputs[0]\n",
        "Clac0_cell = next_inputs[1]\n",
        "Cgln0_cell = next_inputs[2]\n",
        "Camm0_cell = next_inputs[3]\n",
        "Cglc0_algae = next_inputs[4]\n",
        "Clac0_algae = next_inputs[5]\n",
        "Cgln0_algae = next_inputs[6]\n",
        "Camm0_algae = next_inputs[7]\n",
        "\n",
        "# Model outputs\n",
        "problem,Y,next_inputs = CCC_model(umax_cell,umax_algae,qglc_cell,qlac_cell,qgln_cell,qamm_cell,qglc_algae,qlac_algae,qgln_algae,qamm_algae,kglc)\n",
        "\n",
        "# Perform analysis (auto display)\n",
        "Y = np.array(Y)\n",
        "Si = sobol.analyze(problem, Y, print_to_console=True)\n",
        "\n",
        "Si.plot()\n",
        "plot.show()"
      ],
      "metadata": {
        "colab": {
          "base_uri": "https://localhost:8080/"
        },
        "outputId": "a570bd57-eb41-4630-b89e-b3c1f5ac0882",
        "id": "Ll9iYHZWkfb2"
      },
      "execution_count": null,
      "outputs": [
        {
          "output_type": "stream",
          "name": "stderr",
          "text": [
            "<ipython-input-34-9d8d140970f3>:35: DeprecationWarning: `salib.sample.saltelli` will be removed in SALib 1.5.1 Please use `salib.sample.sobol`\n",
            "  inputs = saltelli.sample(problem, scale)\n",
            "/usr/local/lib/python3.10/dist-packages/SALib/sample/saltelli.py:110: UserWarning: \n",
            "        Convergence properties of the Sobol' sequence is only valid if\n",
            "        `N` (1408) is equal to `2^n`.\n",
            "        \n",
            "  warnings.warn(msg)\n",
            "/usr/local/lib/python3.10/dist-packages/SALib/util/__init__.py:274: FutureWarning: unique with argument that is not not a Series, Index, ExtensionArray, or np.ndarray is deprecated and will raise in a future version.\n",
            "  names = list(pd.unique(groups))\n",
            "/usr/local/lib/python3.10/dist-packages/SALib/util/__init__.py:274: FutureWarning: unique with argument that is not not a Series, Index, ExtensionArray, or np.ndarray is deprecated and will raise in a future version.\n",
            "  names = list(pd.unique(groups))\n"
          ]
        },
        {
          "output_type": "stream",
          "name": "stdout",
          "text": [
            "               ST       ST_conf\n",
            "x1   1.177568e+00  1.054023e+00\n",
            "x2   7.180038e-01  5.135052e-01\n",
            "x3   0.000000e+00  0.000000e+00\n",
            "x4   0.000000e+00  0.000000e+00\n",
            "x5   0.000000e+00  0.000000e+00\n",
            "x6   0.000000e+00  0.000000e+00\n",
            "x7   0.000000e+00  0.000000e+00\n",
            "x8   0.000000e+00  0.000000e+00\n",
            "x9   0.000000e+00  0.000000e+00\n",
            "x10  0.000000e+00  0.000000e+00\n",
            "x11  0.000000e+00  0.000000e+00\n",
            "x12  0.000000e+00  0.000000e+00\n",
            "x13  0.000000e+00  0.000000e+00\n",
            "x14  0.000000e+00  0.000000e+00\n",
            "x15  0.000000e+00  0.000000e+00\n",
            "x16  0.000000e+00  0.000000e+00\n",
            "x17  1.738189e-12  1.794883e-12\n",
            "x18  6.865210e-01  4.718219e-01\n",
            "x19  8.173665e-01  6.169126e-01\n",
            "x20  8.209283e-01  1.310486e+00\n",
            "x21  1.042292e+00  1.005641e+00\n",
            "               S1       S1_conf\n",
            "x1   1.652586e-01  2.725251e-01\n",
            "x2   3.382294e-02  1.916295e-01\n",
            "x3   0.000000e+00  0.000000e+00\n",
            "x4   0.000000e+00  0.000000e+00\n",
            "x5   0.000000e+00  0.000000e+00\n",
            "x6   0.000000e+00  0.000000e+00\n",
            "x7   0.000000e+00  0.000000e+00\n",
            "x8   0.000000e+00  0.000000e+00\n",
            "x9   0.000000e+00  0.000000e+00\n",
            "x10  0.000000e+00  0.000000e+00\n",
            "x11  0.000000e+00  0.000000e+00\n",
            "x12  0.000000e+00  0.000000e+00\n",
            "x13  0.000000e+00  0.000000e+00\n",
            "x14  0.000000e+00  0.000000e+00\n",
            "x15  0.000000e+00  0.000000e+00\n",
            "x16  0.000000e+00  0.000000e+00\n",
            "x17 -2.797955e-07  9.101904e-07\n",
            "x18  1.105780e-01  1.384901e-01\n",
            "x19  1.701882e-01  4.310975e-01\n",
            "x20  4.456477e-02  2.045219e-01\n",
            "x21  3.349137e-01  6.175894e-01\n",
            "                  S2   S2_conf\n",
            "(x1, x2)    1.060644  2.473662\n",
            "(x1, x3)    0.724860  1.900229\n",
            "(x1, x4)    0.724860  1.900229\n",
            "(x1, x5)    0.724860  1.900229\n",
            "(x1, x6)    0.724860  1.900229\n",
            "...              ...       ...\n",
            "(x18, x20) -0.152311  0.236167\n",
            "(x18, x21) -0.257214  0.369637\n",
            "(x19, x20) -0.212216  0.356405\n",
            "(x19, x21) -0.510066  1.146193\n",
            "(x20, x21) -0.230893  0.626922\n",
            "\n",
            "[210 rows x 2 columns]\n"
          ]
        },
        {
          "output_type": "display_data",
          "data": {
            "text/plain": [
              "<Figure size 640x480 with 3 Axes>"
            ],
            "image/png": "[encoded data removed]"
          },
          "metadata": {}
        }
      ]
    },
    {
      "cell_type": "markdown",
      "source": [
        "### *t* = 480 h"
      ],
      "metadata": {
        "id": "RQ6vJFq7kgvl"
      }
    },
    {
      "cell_type": "code",
      "source": [
        "# Model inputs\n",
        "Cglc0_cell = next_inputs[0]\n",
        "Clac0_cell = next_inputs[1]\n",
        "Cgln0_cell = next_inputs[2]\n",
        "Camm0_cell = next_inputs[3]\n",
        "Cglc0_algae = next_inputs[4]\n",
        "Clac0_algae = next_inputs[5]\n",
        "Cgln0_algae = next_inputs[6]\n",
        "Camm0_algae = next_inputs[7]\n",
        "\n",
        "# Model outputs\n",
        "problem,Y,next_inputs = CCC_model(umax_cell,umax_algae,qglc_cell,qlac_cell,qgln_cell,qamm_cell,qglc_algae,qlac_algae,qgln_algae,qamm_algae,kglc)\n",
        "\n",
        "# Perform analysis (auto display)\n",
        "Y = np.array(Y)\n",
        "Si = sobol.analyze(problem, Y, print_to_console=True)\n",
        "\n",
        "Si.plot()\n",
        "plot.show()"
      ],
      "metadata": {
        "colab": {
          "base_uri": "https://localhost:8080/"
        },
        "outputId": "cfc86eef-7e5a-41c2-d08a-f43cb123e68b",
        "id": "v95qCCoKkgvr"
      },
      "execution_count": null,
      "outputs": [
        {
          "output_type": "stream",
          "name": "stderr",
          "text": [
            "<ipython-input-34-9d8d140970f3>:35: DeprecationWarning: `salib.sample.saltelli` will be removed in SALib 1.5.1 Please use `salib.sample.sobol`\n",
            "  inputs = saltelli.sample(problem, scale)\n",
            "/usr/local/lib/python3.10/dist-packages/SALib/sample/saltelli.py:110: UserWarning: \n",
            "        Convergence properties of the Sobol' sequence is only valid if\n",
            "        `N` (1408) is equal to `2^n`.\n",
            "        \n",
            "  warnings.warn(msg)\n",
            "/usr/local/lib/python3.10/dist-packages/SALib/util/__init__.py:274: FutureWarning: unique with argument that is not not a Series, Index, ExtensionArray, or np.ndarray is deprecated and will raise in a future version.\n",
            "  names = list(pd.unique(groups))\n",
            "/usr/local/lib/python3.10/dist-packages/SALib/util/__init__.py:274: FutureWarning: unique with argument that is not not a Series, Index, ExtensionArray, or np.ndarray is deprecated and will raise in a future version.\n",
            "  names = list(pd.unique(groups))\n"
          ]
        },
        {
          "output_type": "stream",
          "name": "stdout",
          "text": [
            "               ST       ST_conf\n",
            "x1   1.713395e+00  2.393593e+00\n",
            "x2   2.354970e-01  3.709189e-01\n",
            "x3   0.000000e+00  0.000000e+00\n",
            "x4   0.000000e+00  0.000000e+00\n",
            "x5   0.000000e+00  0.000000e+00\n",
            "x6   0.000000e+00  0.000000e+00\n",
            "x7   0.000000e+00  0.000000e+00\n",
            "x8   0.000000e+00  0.000000e+00\n",
            "x9   0.000000e+00  0.000000e+00\n",
            "x10  0.000000e+00  0.000000e+00\n",
            "x11  0.000000e+00  0.000000e+00\n",
            "x12  0.000000e+00  0.000000e+00\n",
            "x13  0.000000e+00  0.000000e+00\n",
            "x14  0.000000e+00  0.000000e+00\n",
            "x15  0.000000e+00  0.000000e+00\n",
            "x16  0.000000e+00  0.000000e+00\n",
            "x17  7.344331e-12  1.821488e-11\n",
            "x18  2.182589e-01  3.679760e-01\n",
            "x19  3.110080e-01  5.952445e-01\n",
            "x20  4.449332e-01  1.477728e+00\n",
            "x21  1.607559e+00  3.045145e+00\n",
            "               S1   S1_conf\n",
            "x1   4.428130e-01  0.867951\n",
            "x2  -2.355910e-01  0.383699\n",
            "x3   0.000000e+00  0.000000\n",
            "x4   0.000000e+00  0.000000\n",
            "x5   0.000000e+00  0.000000\n",
            "x6   0.000000e+00  0.000000\n",
            "x7   0.000000e+00  0.000000\n",
            "x8   0.000000e+00  0.000000\n",
            "x9   0.000000e+00  0.000000\n",
            "x10  0.000000e+00  0.000000\n",
            "x11  0.000000e+00  0.000000\n",
            "x12  0.000000e+00  0.000000\n",
            "x13  0.000000e+00  0.000000\n",
            "x14  0.000000e+00  0.000000\n",
            "x15  0.000000e+00  0.000000\n",
            "x16  0.000000e+00  0.000000\n",
            "x17 -3.854493e-07  0.000002\n",
            "x18 -1.377071e-01  0.344873\n",
            "x19 -1.358839e-01  0.416875\n",
            "x20 -3.107088e-02  0.123243\n",
            "x21 -8.546767e-02  0.725541\n",
            "                  S2   S2_conf\n",
            "(x1, x2)    3.551071  4.876702\n",
            "(x1, x3)    2.452686  4.140059\n",
            "(x1, x4)    2.452686  4.140059\n",
            "(x1, x5)    2.452686  4.140059\n",
            "(x1, x6)    2.452686  4.140059\n",
            "...              ...       ...\n",
            "(x18, x20)  0.208549  0.421743\n",
            "(x18, x21)  0.226885  0.726437\n",
            "(x19, x20) -0.134741  0.304932\n",
            "(x19, x21) -0.120078  0.837720\n",
            "(x20, x21)  0.048044  0.158257\n",
            "\n",
            "[210 rows x 2 columns]\n"
          ]
        },
        {
          "output_type": "display_data",
          "data": {
            "text/plain": [
              "<Figure size 640x480 with 3 Axes>"
            ],
            "image/png": "[encoded data removed]"
          },
          "metadata": {}
        }
      ]
    }
  ],
  "metadata": {
    "colab": {
      "provenance": [],
      "collapsed_sections": [
        "fC3KnK_h5HQg",
        "RvDwLziYNB33",
        "amwQc1d3M10X",
        "lj_oXpSxNymJ",
        "Vqn2fFVTt-rH",
        "fVielS5FP1w_",
        "EHZd01Wr5wXg",
        "2_sOrEzajquF",
        "V-qZ-dkfkHNq",
        "Dwdb37gZkVN2",
        "0JSZfjPAkeCH",
        "FgZ4pt2-kfbv",
        "RQ6vJFq7kgvl"
      ],
      "authorship_tag": "ABX9TyMl/y5aK32aanvB8TX2vR9b",
      "include_colab_link": true
    },
    "kernelspec": {
      "display_name": "Python 3",
      "name": "python3"
    },
    "language_info": {
      "name": "python"
    }
  },
  "nbformat": 4,
  "nbformat_minor": 0
}