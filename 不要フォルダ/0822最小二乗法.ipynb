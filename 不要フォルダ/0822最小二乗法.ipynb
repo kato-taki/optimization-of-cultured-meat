{
  "cells": [
    {
      "cell_type": "markdown",
      "metadata": {
        "id": "view-in-github",
        "colab_type": "text"
      },
      "source": [
        "<a href=\"https://colab.research.google.com/github/kato-taki/optimization-of-cultured-meat/blob/main/0822%E6%9C%80%E5%B0%8F%E4%BA%8C%E4%B9%97%E6%B3%95.ipynb\" target=\"_parent\"><img src=\"https://colab.research.google.com/assets/colab-badge.svg\" alt=\"Open In Colab\"/></a>"
      ]
    },
    {
      "cell_type": "markdown",
      "source": [
        "# Input"
      ],
      "metadata": {
        "id": "fC3KnK_h5HQg"
      }
    },
    {
      "cell_type": "markdown",
      "metadata": {
        "id": "RvDwLziYNB33"
      },
      "source": [
        "## Import library\n"
      ]
    },
    {
      "cell_type": "code",
      "execution_count": null,
      "metadata": {
        "id": "WIpLxRcFN9p5"
      },
      "outputs": [],
      "source": [
        "import numpy as np\n",
        "import math\n",
        "import matplotlib.pyplot as plt\n",
        "import time\n",
        "from scipy.optimize import curve_fit"
      ]
    },
    {
      "cell_type": "markdown",
      "metadata": {
        "id": "amwQc1d3M10X"
      },
      "source": [
        "## Parameter value and Constant value\n"
      ]
    },
    {
      "cell_type": "code",
      "execution_count": null,
      "metadata": {
        "id": "JK-5_nl0uQPy"
      },
      "outputs": [],
      "source": [
        "##1.1 モデルパラメータの初期値およびin vitro実験データから直接推定できるモデルパラメータの推定値\n",
        "#動物細胞培養(C2C12マウス筋芽細胞)\n",
        "#播種密度\n",
        "#1サイクル目\n",
        "X0_cell_1st = 79126666 #cells/L, in vitro実験データを使用．\n",
        "#2サイクル目\n",
        "X0_cell_2nd = 97090583 #cells/L, in vitro実験データを使用．\n",
        "#最大比増殖速度\n",
        "umax_cell = 0.02074 #h-1, in vitro実験データから直接推定．\n",
        "#培地成分（グルコース，乳酸，グルタミン，アンモニア）濃度\n",
        "Cglc0_cell = 22.75805413 #mmol/L, in vitro実験データを使用．\n",
        "Clac0_cell = 4.688425104 #mmol/L, in vitro実験データを使用．\n",
        "Cgln0_cell = 1.789033333 #mmol/L, in vitro実験データを使用．\n",
        "Camm0_cell = 1.244788914 #mmol/L, in vitro実験データを使用．\n",
        "#増殖した細胞密度に対して代謝された培地成分（グルコース，乳酸，グルタミン，アンモニア）濃度の割合\n",
        "qglc_cell = 5.19922e-8   # ΔCglc/ΔX (mmol/cells), in vitro実験データから直接推定．\n",
        "qlac_cell = 9.08415e-8   # ΔClac/ΔX (mmol/cells), in vitro実験データから直接推定．\n",
        "qgln_cell = 3.95034e-9  # ΔCgln/ΔX (mmol/cells), in vitro実験データから直接推定．\n",
        "qamm_cell = 2.56415e-10 # ΔClac/ΔX (mmol/cells), in vitro実験データから直接推定．\n",
        "\n",
        "\n",
        "#藻類培養(乳酸資化シネココッカス)\n",
        "#播種密度\n",
        "#1サイクル目\n",
        "X0_algae_1st = 44476333333  #cells/L, in vitro実験データを使用．\n",
        "#2サイクル目\n",
        "X0_algae_2nd = 58910000000  #cells/L, in vitro実験データを使用．\n",
        "#最大比増殖速度\n",
        "umax_algae = 0.00265  #h-1, in vitro実験データから直接推定．\n",
        "#増殖した細胞密度に対して代謝された培地成分（乳酸，グルタミン，アンモニア）濃度の割合\n",
        "qlac_algae = 9.08281e-10    # ΔClac/ΔX (mmol/cells), in vitro実験データから直接推定．\n",
        "qgln_algae = 1.10727e-12  # ΔCgln/ΔX (mmol/cells), in vitro実験データから直接推定．\n",
        "qamm_algae = 8.2387e-11    # ΔClac/ΔX (mmol/cells), in vitro実験データから直接推定．\n",
        "\n",
        "\n",
        "#藻類酸加水分解による栄養素抽出\n",
        "#グルコース抽出定数\n",
        "kglc = 0.00000000105492  #mmol/cells,in vitro実験データから直接推定．"
      ]
    },
    {
      "cell_type": "code",
      "execution_count": null,
      "metadata": {
        "id": "eIslgkCZvUFq"
      },
      "outputs": [],
      "source": [
        "##1.2 in vitro実験データから直接推定できないモデルパラメータの初期推定値\n",
        "#飽和定数KS\n",
        "#動物細胞\n",
        "Kglc = 0.75   #mmol/L, 文献データから引用．最小二乗法を使用してフィッティング．\n",
        "Kgln = 0.075  #mmol/L, 文献データから引用．最小二乗法を使用してフィッティング．\n",
        "#藻類\n",
        "Kamm_algae = 0.0135 #mmol/L, 文献データから引用．最小二乗法を使用してフィッティング．\n",
        "#阻害定数KI\n",
        "Klac_cell = 172   #mmol/L, 文献データから引用．最小二乗法を使用してフィッティング．\n",
        "Kamm_cell = 28.48 #mmol/L, 文献データから引用．最小二乗法を使用してフィッティング．\n",
        "\n",
        "#乳酸取り込み定数\n",
        "uptake_max = 0.0000000156 #mmol/L, 文献データから引用し，推定値とする．\n",
        "Klac_uptake = 1.31 #mmol/L, 文献データから引用し，推定値とする．\n",
        "#グルタミン分解定数，\n",
        "kd_gln = 0.000096 #h-1, 文献データから引用し，推定値とする．"
      ]
    },
    {
      "cell_type": "code",
      "execution_count": null,
      "metadata": {
        "id": "JyevdWffOJcR"
      },
      "outputs": [],
      "source": [
        "##1.3 実験条件\n",
        "#動物細胞培養\n",
        "T_cell = 68           #h,1サイクルの培養時間\n",
        "n_cell = 68*60        #1サイクルの計算回数\n",
        "h = T_cell / n_cell   #h,タイムステップ\n",
        "t_cell = np.arange(0,T_cell,h)\n",
        "\n",
        "#藻類培養\n",
        "T_algae = 96          #h,1サイクルの培養時間\n",
        "n_algae = 96*60       #1サイクルの計算回数\n",
        "h = T_algae / n_algae #h,タイムステップ\n",
        "t_algae = np.arange(0,T_algae,h)\n",
        "\n",
        "#サイクル数\n",
        "cycle_num = 2\n",
        "\n",
        "#藻類から抽出したグルコースを添加した割合\n",
        "k_hydrolysis = 5/100"
      ]
    },
    {
      "cell_type": "markdown",
      "source": [
        "## Lists"
      ],
      "metadata": {
        "id": "HS-uYcgZtSA0"
      }
    },
    {
      "cell_type": "code",
      "source": [
        "##2. CCCモデルパラメータの経時変化を格納するリスト．\n",
        "list_X_cell     = [] #動物細胞密度\n",
        "list_X_algae    = [] #藻類細胞密度\n",
        "list_u_cell     = [] #動物細胞比増殖速度\n",
        "list_u_algae    = [] #藻類比増殖速度\n",
        "list_Cglc       = [] #グルコース濃度\n",
        "list_Clac       = [] #乳酸濃度\n",
        "list_Cgln       = [] #グルタミン濃度\n",
        "list_Camm       = [] #アンモニア\n",
        "list_time       = [] #培養時間\n",
        "list_time_cell  = [] #動物細胞培養時間\n",
        "list_time_algae = [] #藻類培養時間"
      ],
      "metadata": {
        "id": "CXMpd4_itU1L"
      },
      "execution_count": null,
      "outputs": []
    },
    {
      "cell_type": "markdown",
      "metadata": {
        "id": "xakQsLIYNgiV"
      },
      "source": [
        "## Definition of culture process function"
      ]
    },
    {
      "cell_type": "code",
      "execution_count": null,
      "metadata": {
        "id": "_AFatnMQ1HYb"
      },
      "outputs": [],
      "source": [
        "##3.1 動物細胞培養のクラス\n",
        "class animal_cell_culture:\n",
        "\t#比増殖速度\n",
        "\tdef u(self,Cglc,Clac,Cgln,Camm):\n",
        "\t\treturn umax_cell *(Cglc/(Kglc+Cglc*(1+Clac/Klac_cell)))*(Cgln/(Kgln+Cgln*(1+Camm/Kamm_cell)))\n",
        "\t#増殖速度式\n",
        "\tdef cell_growth(self,u):\n",
        "\t\tf = lambda X_cell,t=0 : u*X_cell\n",
        "\t\treturn f\n",
        "\t#グルコース代謝\n",
        "\tdef glucose(self,X0,u,t,Cglc0):\n",
        "\t\treturn -qglc_cell*X0*math.exp(u*t)+(Cglc0+qglc_cell*X0)\n",
        "\t#乳酸代謝\n",
        "\tdef lactate(self,X0,u,t,Clac0):\n",
        "\t\treturn qlac_cell*X0*math.exp(u*t)+(Clac0-qlac_cell*X0)\n",
        "\t#グルタミン代謝\n",
        "\tdef glutamine_met(self,X0,u,t,Cgln0):\n",
        "\t\treturn -qgln_cell*X0*math.exp(u*t)+(Cgln0+qgln_cell*X0)\n",
        "\t#グルタミン分解\n",
        "\tdef glutamine_deg(self):\n",
        "\t\tf = lambda Cgln,t=0 : -kd_gln*Cgln\n",
        "\t\treturn f\n",
        "\t#アンモニア代謝\n",
        "\tdef ammonia(self,X0,u,t,Camm0):\n",
        "\t\treturn qamm_cell*X0*math.exp(u*t)+(Camm0-qamm_cell*X0)\n",
        "\n",
        "\n",
        "##3.2 藻類培養のクラス\n",
        "class algae_culture:\n",
        "\tdef u(self,Camm):\n",
        "\t\treturn umax_algae *(Camm/(Kamm_algae+Camm))\n",
        "\t#増殖速度式\n",
        "\tdef cell_growth(self,u):\n",
        "\t\tf = lambda X_cell,t=0 : u*X_cell\n",
        "\t\treturn f\n",
        "\t#乳酸代謝\n",
        "\tdef lactate(self,X0,u,t,Clac0):\n",
        "\t\treturn -qlac_algae*X0*math.exp(u*t)+(Clac0+qlac_algae*X0)\n",
        "\t#グルタミン代謝\n",
        "\tdef glutamine_met(self,X0,u,t,Cgln0):\n",
        "\t\treturn qgln_algae*X0*math.exp(u*t)+(Cgln0-qgln_algae*X0)\n",
        "\t#グルタミン分解\n",
        "\tdef glutamine_deg(self):\n",
        "\t\tf = lambda Cgln,t=0 : -kd_gln*Cgln\n",
        "\t\treturn f\n",
        "\t#アンモニア代謝\n",
        "\tdef ammonia(self,X0,u,t,Camm0):\n",
        "\t\treturn -qamm_algae*X0*math.exp(u*t)+(Camm0+qamm_algae*X0)"
      ]
    },
    {
      "cell_type": "markdown",
      "metadata": {
        "id": "lj_oXpSxNymJ"
      },
      "source": [
        "# Process"
      ]
    },
    {
      "cell_type": "markdown",
      "metadata": {
        "id": "fVielS5FP1w_"
      },
      "source": [
        "## Definition of CCC model"
      ]
    },
    {
      "cell_type": "code",
      "execution_count": null,
      "metadata": {
        "id": "72AIMhI9hcYN"
      },
      "outputs": [],
      "source": [
        "##4. CCCモデルの定義\n",
        "def CCC_model():\n",
        "  #=============================================================================\n",
        "  #CCCモデルパラメータの初期値\n",
        "  #=============================================================================\n",
        "  #培養時間\n",
        "  time = 0\n",
        "  #培地濃度\n",
        "  Cglc   =  Cglc0_cell\n",
        "  Clac   =  Clac0_cell\n",
        "  Cgln   =  Cgln0_cell\n",
        "  Camm   =  Camm0_cell\n",
        "\n",
        "  #=============================================================================\n",
        "  #CCCモデルの実行\n",
        "  #=============================================================================\n",
        "  for i in range(cycle_num):\n",
        "    #===========================================================================\n",
        "    #動物細胞培養プロセスの初期設定\n",
        "    #===========================================================================\n",
        "    #1. 動物細胞培養モジュールの呼び出し\n",
        "    #クラスから動物細胞培養モジュールを呼び出す．\n",
        "    process1 = animal_cell_culture()\n",
        "    #モジュール内の比増殖速度を呼び出す．\n",
        "    u = process1.u(Cglc,Clac,Cgln,Camm)\n",
        "    #2. 動物細胞培養の経時変化を格納するリストの定義および初期値の格納．\n",
        "    #2.1 比増殖速度\n",
        "    list_u_cell_t = np.empty(n_cell)\n",
        "    list_u_cell_t[0] = u\n",
        "    #2.2 培地濃度\n",
        "    #2.2.1 グルコース\n",
        "    list_Cglc_cell_t = np.empty(n_cell)\n",
        "    list_Cglc_cell_t[0] = Cglc\n",
        "    #2.2.2 乳酸\n",
        "    list_Clac_cell_t = np.empty(n_cell)\n",
        "    list_Clac_cell_t[0] = Clac\n",
        "    #2.2.3 グルタミン\n",
        "    list_Cgln_cell_t = np.empty(n_cell)\n",
        "    list_Cgln_cell_t[0] = Cgln\n",
        "    #2.2.4 アンモニア\n",
        "    list_Camm_cell_t = np.empty(n_cell)\n",
        "    list_Camm_cell_t[0] = Camm\n",
        "    #2.2.5 培養時間\n",
        "    list_time_cell_t = np.empty(n_cell)\n",
        "    list_time_cell_t[0] = time\n",
        "    #2.2.6 1サイクル目の初期細胞密度と培地濃度の初期値の定義．\n",
        "    if i == 0:\n",
        "      #初期細胞密度\n",
        "      X0 = X0_cell_1st\n",
        "      list_X_cell_t = np.empty(n_cell)\n",
        "      list_X_cell_t[0] = X0\n",
        "      #培地濃度の初期値\n",
        "      Cglc0   =  list_Cglc_cell_t[0]\n",
        "      Clac0   =  list_Clac_cell_t[0]\n",
        "      Cgln0   =  list_Cgln_cell_t[0]\n",
        "      Camm0   =  list_Camm_cell_t[0]\n",
        "    #2.2.7 2サイクル目の初期細胞密度の定義．\n",
        "    else:\n",
        "      #初期細胞密度\n",
        "      X0 = X0_cell_2nd\n",
        "      list_X_cell_t = np.empty(n_cell)\n",
        "      list_X_cell_t[0] = X0\n",
        "\n",
        "\n",
        "    #===========================================================================\n",
        "    #3. 動物細胞培養プロセスの実行\n",
        "    #===========================================================================\n",
        "    for t in range(n_cell-1):\n",
        "      #3.1 増殖反応\n",
        "      #モジュール内の増殖反応を呼び出す．\n",
        "      f = process1.cell_growth(u)\n",
        "      #ルンゲクッタ法による計算\n",
        "      k_1 = h * f(list_X_cell_t[t],t_cell[t])\n",
        "      k_2 = h * f(list_X_cell_t[t] + k_1 /2 , t_cell[t] + h/2 )\n",
        "      k_3 = h * f(list_X_cell_t[t] + k_2 /2 , t_cell[t] + h/2 )\n",
        "      k_4 = h * f(list_X_cell_t[t] + k_3 , t_cell[t] + h )\n",
        "      list_X_cell_t[t+1] = list_X_cell_t[t] + 1/6 * (k_1 + 2*k_2 + 2*k_3 + k_4 )\n",
        "      #3.2 代謝反応\n",
        "      #モジュール内の代謝反応を呼び出す．\n",
        "      #3.2.1 グルコース代謝\n",
        "      Cglc = process1.glucose(X0,u,t/60,Cglc0)\n",
        "      list_Cglc_cell_t[t+1] = Cglc\n",
        "      #3.2.2 乳酸代謝\n",
        "      Clac = process1.lactate(X0,u,t/60,Clac0)\n",
        "      list_Clac_cell_t[t+1] = Clac\n",
        "      #3.2.3 グルタミン代謝\n",
        "      Cgln = process1.glutamine_met(X0,u,t/60,Cgln0)\n",
        "      #モジュール内のグルタミン分解反応を呼び出す．\n",
        "      gln = process1.glutamine_deg()\n",
        "      #ルンゲクッタ法による計算\n",
        "      h_1 = h * gln(list_Cgln_cell_t[t],t_cell[t])\n",
        "      h_2 = h * gln(list_Cgln_cell_t[t] + h_1 /2 , t_cell[t] + h/2 )\n",
        "      h_3 = h * gln(list_Cgln_cell_t[t] + h_2 /2 , t_cell[t] + h/2 )\n",
        "      h_4 = h * gln(list_Cgln_cell_t[t] + h_3 , t_cell[t] + h )\n",
        "      list_Cgln_cell_t[t+1] = Cgln - 1/6 * (h_1 + 2*h_2 + 2*h_3 + h_4)  #1/6 * (h_1 + 2*h_2 + 2*h_3 + h_4)は分解されたグルタミン濃度\n",
        "      Cgln = list_Cgln_cell_t[t+1]\n",
        "      #3.2.4 アンモニア代謝\n",
        "      Camm = process1.ammonia(X0,u,t/60,Camm0)\n",
        "      list_Camm_cell_t[t+1] = Camm + 1/6 * (h_1 + 2*h_2 + 2*h_3 + h_4)  #1/6 * (h_1 + 2*h_2 + 2*h_3 + h_4)は分解されたグルタミン濃度\n",
        "      Camm = list_Camm_cell_t[t+1]\n",
        "      #3.3 比増殖速度\n",
        "      list_u_cell_t[t+1] = u\n",
        "      #3.4 培養時間\n",
        "      time += h\n",
        "      list_time_cell_t[t+1] = time\n",
        "\n",
        "    #3.5 リストに動物細胞培養の経時変化を格納する\n",
        "    list_X_cell.extend(list_X_cell_t)\n",
        "    list_u_cell.extend(list_u_cell_t)\n",
        "    list_Cglc.extend(list_Cglc_cell_t)\n",
        "    list_Clac.extend(list_Clac_cell_t)\n",
        "    list_Cgln.extend(list_Cgln_cell_t)\n",
        "    list_Camm.extend(list_Camm_cell_t)\n",
        "    list_time.extend(list_time_cell_t)\n",
        "    list_time_cell.extend(list_time_cell_t)\n",
        "\n",
        "\n",
        "    #===========================================================================\n",
        "    #培地交換プロセス\n",
        "    #===========================================================================\n",
        "    #3.6 動物細胞培地濃度を藻類培地濃度の初期値として定義する．\n",
        "    Cglc0   =  list_Cglc_cell_t[-1]\n",
        "    Clac0   =  list_Clac_cell_t[-1]\n",
        "    Cgln0   =  list_Cgln_cell_t[-1]\n",
        "    Camm0   =  list_Camm_cell_t[-1]\n",
        "\n",
        "\n",
        "    #===========================================================================\n",
        "    #藻類培養プロセスの初期設定\n",
        "    #===========================================================================\n",
        "    #4. 藻類培養モジュールの呼び出し\n",
        "    #クラスから藻類培養モジュールを呼び出す．\n",
        "    process2 = algae_culture()\n",
        "    #モジュール内の比増殖速度を呼び出す．\n",
        "    u = process2.u(Camm)\n",
        "    #5. 藻類培養の経時変化を格納するリスト\n",
        "    #5.1 比増殖速度\n",
        "    list_u_algae_t = np.empty(n_algae)\n",
        "    list_u_algae_t[0] = u\n",
        "    #5.2 培地濃度\n",
        "    #5.2.1 グルコース\n",
        "    list_Cglc_algae_t = np.empty(n_algae)\n",
        "    list_Cglc_algae_t[0] = Cglc\n",
        "    #5.2.2 乳酸\n",
        "    list_Clac_algae_t = np.empty(n_algae)\n",
        "    list_Clac_algae_t[0] = Clac\n",
        "    #5.2.3 グルタミン\n",
        "    list_Cgln_algae_t = np.empty(n_algae)\n",
        "    list_Cgln_algae_t[0] = Cgln\n",
        "    #5.2.4 アンモニア\n",
        "    list_Camm_algae_t = np.empty(n_algae)\n",
        "    list_Camm_algae_t[0] = Camm\n",
        "    #5.2.5 培養時間\n",
        "    list_time_algae_t = np.empty(n_algae)\n",
        "    list_time_algae_t[0] = time\n",
        "    #5.2.6 1サイクル目の初期細胞密度の定義．\n",
        "    if i == 0:\n",
        "      X0 = X0_algae_1st\n",
        "      list_X_algae_t = np.empty(n_algae)\n",
        "      list_X_algae_t[0] = X0\n",
        "    #5.2.7 2サイクル目の初期細胞密度の定義．\n",
        "    else:\n",
        "      X0 = X0_algae_2nd\n",
        "      list_X_algae_t = np.empty(n_algae)\n",
        "      list_X_algae_t[0] = X0\n",
        "\n",
        "    #===========================================================================\n",
        "    #6. 藻類培養プロセスの実行\n",
        "    #===========================================================================\n",
        "    for t in range(0,n_algae-1):\n",
        "      #6.1 増殖反応\n",
        "      #モジュール内の増殖反応を呼び出す．\n",
        "      f = process2.cell_growth(u)\n",
        "      #ルンゲクッタ法による計算\n",
        "      k_1 = h * f(list_X_algae_t[t],t_algae[t])\n",
        "      k_2 = h * f(list_X_algae_t[t] + k_1 /2 , t_algae[t] + h/2 )\n",
        "      k_3 = h * f(list_X_algae_t[t] + k_2 /2 , t_algae[t] + h/2 )\n",
        "      k_4 = h * f(list_X_algae_t[t] + k_3 , t_algae[t] + h )\n",
        "      list_X_algae_t[t+1] = list_X_algae_t[t] + 1/6 * (k_1 + 2*k_2 + 2*k_3 + k_4 )\n",
        "      #6.2 代謝反応\n",
        "      #モジュール内の代謝反応を呼び出す．\n",
        "      #6.2.1 乳酸代謝\n",
        "      Clac = process2.lactate(X0,u,t/60,Clac0)\n",
        "      list_Clac_algae_t[t+1] = Clac\n",
        "      #6.2.2 グルタミン代謝\n",
        "      Cgln = process2.glutamine_met(X0,u,t/60,Cgln0)\n",
        "      #モジュール内のグルタミン分解反応を呼び出す．\n",
        "      gln = process2.glutamine_deg()\n",
        "      #ルンゲクッタ法による計算\n",
        "      h_1 = h * gln(list_Cgln_algae_t[t],t_algae[t])\n",
        "      h_2 = h * gln(list_Cgln_algae_t[t] + h_1 /2 , t_algae[t] + h/2 )\n",
        "      h_3 = h * gln(list_Cgln_algae_t[t] + h_2 /2 , t_algae[t] + h/2 )\n",
        "      h_4 = h * gln(list_Cgln_algae_t[t] + h_3 , t_algae[t] + h )\n",
        "      list_Cgln_algae_t[t+1] = Cgln - 1/6 * (h_1 + 2*h_2 + 2*h_3 + h_4)  #1/6 * (h_1 + 2*h_2 + 2*h_3 + h_4)は分解されたグルタミン濃度\n",
        "      Cgln = list_Cgln_algae_t[t+1]\n",
        "      #6.2.3 アンモニア代謝\n",
        "      Camm = process2.ammonia(X0,u,t/60,Camm0)\n",
        "      list_Camm_algae_t[t+1] = Camm + 1/6 * (h_1 + 2*h_2 + 2*h_3 + h_4)  #1/6 * (h_1 + 2*h_2 + 2*h_3 + h_4)は分解されたグルタミン濃度\n",
        "      Camm = list_Camm_algae_t[t+1]\n",
        "      #6.3 比増殖速度\n",
        "      list_u_algae_t[t+1] = u\n",
        "      #6.4 培養時間\n",
        "      time += h\n",
        "      list_time_algae_t[t+1] = time\n",
        "\n",
        "    #6.5 リストに藻類培養の経時変化を格納する\n",
        "    list_X_algae.extend(list_X_algae_t)\n",
        "    list_u_algae.extend(list_u_algae_t)\n",
        "    list_Cglc.extend(list_Cglc_algae_t)\n",
        "    list_Clac.extend(list_Clac_algae_t)\n",
        "    list_Cgln.extend(list_Cgln_algae_t)\n",
        "    list_Camm.extend(list_Camm_algae_t)\n",
        "    list_time.extend(list_time_algae_t)\n",
        "    list_time_algae.extend(list_time_algae_t)\n",
        "\n",
        "\n",
        "    #===========================================================================\n",
        "    #7. 藻類栄養素抽出プロセス\n",
        "    #===========================================================================\n",
        "    #7.1 酸加水分解反応\n",
        "    list_Cglc_algae_t[-1] = Cglc + k_hydrolysis*kglc*list_X_algae_t[-1]\n",
        "    list_Clac_algae_t[-1] = Clac*(1 - k_hydrolysis)\n",
        "    list_Cgln_algae_t[-1] = Cgln*(1 - k_hydrolysis)\n",
        "    list_Camm_algae_t[-1] = Camm*(1 - k_hydrolysis)\n",
        "\n",
        "\n",
        "    #===========================================================================\n",
        "    #培地交換プロセス\n",
        "    #===========================================================================\n",
        "    #8. 藻類培地濃度を動物細胞培地濃度の初期値として定義する．\n",
        "    Cglc0   =  list_Cglc_algae_t[-1]\n",
        "    Clac0   =  list_Clac_algae_t[-1]\n",
        "    Cgln0   =  list_Cgln_algae_t[-1]\n",
        "    Camm0   =  list_Camm_algae_t[-1]\n",
        "\n",
        "\n",
        "  return list_time,list_time_cell,list_time_algae,list_X_cell,list_X_algae,list_u_cell,list_u_algae,list_Cglc,list_Clac,list_Cgln,list_Camm"
      ]
    },
    {
      "cell_type": "markdown",
      "source": [
        "# Output"
      ],
      "metadata": {
        "id": "EHZd01Wr5wXg"
      }
    },
    {
      "cell_type": "markdown",
      "source": [
        "## Least-squares method"
      ],
      "metadata": {
        "id": "Oe54mduztUL2"
      }
    },
    {
      "cell_type": "code",
      "source": [
        "list_time,list_time_cell,list_time_algae,list_X_cell,list_X_algae,list_u_cell,list_u_algae,list_Cglc,list_Clac,list_Cgln,list_Camm = CCC_model("
      ],
      "metadata": {
        "colab": {
          "base_uri": "https://localhost:8080/"
        },
        "id": "lDK3N_2BL5fk",
        "outputId": "4c5ff02a-122b-4275-b49c-f916af4f2ebc"
      },
      "execution_count": null,
      "outputs": [
        {
          "output_type": "stream",
          "name": "stdout",
          "text": [
            "0.0026226291044785764\n",
            "14.675596581097025\n",
            "0.1690267199231525\n",
            "-1.0468013374697844\n"
          ]
        }
      ]
    },
    {
      "cell_type": "code",
      "source": [
        "import numpy as np\n",
        "from scipy.optimize import curve_fit\n",
        "def model_wrapper(Kglc, Kgln):\n",
        "    # tは164時間から232時間の時間リスト\n",
        "    _, predicted_X = CCC_model(Kglc, Kgln)\n",
        "    # `predicted_X`が関数から返される細胞密度のリスト\n",
        "    return predicted_X\n",
        "# 実験データの定義\n",
        "t_exp = np.array([164, 232])  # 培養時間のリスト\n",
        "X_exp = np.array([9.71e7, 2.58e8])  # 実験データの細胞密度\n",
        "\n",
        "# フィッティングを実行\n",
        "initial_guess = [0.75, 0.075]  # Kglc, Kgln の初期推定値\n",
        "params, covariance = curve_fit(model_wrapper, t_exp, X_exp, p0=initial_guess)\n",
        "\n",
        "# フィッティング後のパラメータ\n",
        "Kglc_fitted, Kgln_fitted = params\n",
        "\n",
        "print(f\"Fitted Kglc: {Kglc_fitted}\")\n",
        "print(f\"Fitted Kgln: {Kgln_fitted}\")\n"
      ],
      "metadata": {
        "colab": {
          "base_uri": "https://localhost:8080/",
          "height": 384
        },
        "id": "uJukP1GPG9x3",
        "outputId": "aab07a75-e82a-4f64-a40f-a0d86076ed2f"
      },
      "execution_count": null,
      "outputs": [
        {
          "output_type": "error",
          "ename": "TypeError",
          "evalue": "model_wrapper() takes 2 positional arguments but 3 were given",
          "traceback": [
            "\u001b[0;31m---------------------------------------------------------------------------\u001b[0m",
            "\u001b[0;31mTypeError\u001b[0m                                 Traceback (most recent call last)",
            "\u001b[0;32m<ipython-input-27-ca502dda242e>\u001b[0m in \u001b[0;36m<cell line: 14>\u001b[0;34m()\u001b[0m\n\u001b[1;32m     12\u001b[0m \u001b[0;31m# フィッティングを実行\u001b[0m\u001b[0;34m\u001b[0m\u001b[0;34m\u001b[0m\u001b[0m\n\u001b[1;32m     13\u001b[0m \u001b[0minitial_guess\u001b[0m \u001b[0;34m=\u001b[0m \u001b[0;34m[\u001b[0m\u001b[0;36m0.75\u001b[0m\u001b[0;34m,\u001b[0m \u001b[0;36m0.075\u001b[0m\u001b[0;34m]\u001b[0m  \u001b[0;31m# Kglc, Kgln の初期推定値\u001b[0m\u001b[0;34m\u001b[0m\u001b[0;34m\u001b[0m\u001b[0m\n\u001b[0;32m---> 14\u001b[0;31m \u001b[0mparams\u001b[0m\u001b[0;34m,\u001b[0m \u001b[0mcovariance\u001b[0m \u001b[0;34m=\u001b[0m \u001b[0mcurve_fit\u001b[0m\u001b[0;34m(\u001b[0m\u001b[0mmodel_wrapper\u001b[0m\u001b[0;34m,\u001b[0m \u001b[0mt_exp\u001b[0m\u001b[0;34m,\u001b[0m \u001b[0mX_exp\u001b[0m\u001b[0;34m,\u001b[0m \u001b[0mp0\u001b[0m\u001b[0;34m=\u001b[0m\u001b[0minitial_guess\u001b[0m\u001b[0;34m)\u001b[0m\u001b[0;34m\u001b[0m\u001b[0;34m\u001b[0m\u001b[0m\n\u001b[0m\u001b[1;32m     15\u001b[0m \u001b[0;34m\u001b[0m\u001b[0m\n\u001b[1;32m     16\u001b[0m \u001b[0;31m# フィッティング後のパラメータ\u001b[0m\u001b[0;34m\u001b[0m\u001b[0;34m\u001b[0m\u001b[0m\n",
            "\u001b[0;32m/usr/local/lib/python3.10/dist-packages/scipy/optimize/_minpack_py.py\u001b[0m in \u001b[0;36mcurve_fit\u001b[0;34m(f, xdata, ydata, p0, sigma, absolute_sigma, check_finite, bounds, method, jac, full_output, nan_policy, **kwargs)\u001b[0m\n\u001b[1;32m    998\u001b[0m             raise TypeError(f\"The number of func parameters={n} must not\"\n\u001b[1;32m    999\u001b[0m                             f\" exceed the number of data points={ydata.size}\")\n\u001b[0;32m-> 1000\u001b[0;31m         \u001b[0mres\u001b[0m \u001b[0;34m=\u001b[0m \u001b[0mleastsq\u001b[0m\u001b[0;34m(\u001b[0m\u001b[0mfunc\u001b[0m\u001b[0;34m,\u001b[0m \u001b[0mp0\u001b[0m\u001b[0;34m,\u001b[0m \u001b[0mDfun\u001b[0m\u001b[0;34m=\u001b[0m\u001b[0mjac\u001b[0m\u001b[0;34m,\u001b[0m \u001b[0mfull_output\u001b[0m\u001b[0;34m=\u001b[0m\u001b[0;36m1\u001b[0m\u001b[0;34m,\u001b[0m \u001b[0;34m**\u001b[0m\u001b[0mkwargs\u001b[0m\u001b[0;34m)\u001b[0m\u001b[0;34m\u001b[0m\u001b[0;34m\u001b[0m\u001b[0m\n\u001b[0m\u001b[1;32m   1001\u001b[0m         \u001b[0mpopt\u001b[0m\u001b[0;34m,\u001b[0m \u001b[0mpcov\u001b[0m\u001b[0;34m,\u001b[0m \u001b[0minfodict\u001b[0m\u001b[0;34m,\u001b[0m \u001b[0merrmsg\u001b[0m\u001b[0;34m,\u001b[0m \u001b[0mier\u001b[0m \u001b[0;34m=\u001b[0m \u001b[0mres\u001b[0m\u001b[0;34m\u001b[0m\u001b[0;34m\u001b[0m\u001b[0m\n\u001b[1;32m   1002\u001b[0m         \u001b[0mysize\u001b[0m \u001b[0;34m=\u001b[0m \u001b[0mlen\u001b[0m\u001b[0;34m(\u001b[0m\u001b[0minfodict\u001b[0m\u001b[0;34m[\u001b[0m\u001b[0;34m'fvec'\u001b[0m\u001b[0;34m]\u001b[0m\u001b[0;34m)\u001b[0m\u001b[0;34m\u001b[0m\u001b[0;34m\u001b[0m\u001b[0m\n",
            "\u001b[0;32m/usr/local/lib/python3.10/dist-packages/scipy/optimize/_minpack_py.py\u001b[0m in \u001b[0;36mleastsq\u001b[0;34m(func, x0, args, Dfun, full_output, col_deriv, ftol, xtol, gtol, maxfev, epsfcn, factor, diag)\u001b[0m\n\u001b[1;32m    418\u001b[0m     \u001b[0;32mif\u001b[0m \u001b[0;32mnot\u001b[0m \u001b[0misinstance\u001b[0m\u001b[0;34m(\u001b[0m\u001b[0margs\u001b[0m\u001b[0;34m,\u001b[0m \u001b[0mtuple\u001b[0m\u001b[0;34m)\u001b[0m\u001b[0;34m:\u001b[0m\u001b[0;34m\u001b[0m\u001b[0;34m\u001b[0m\u001b[0m\n\u001b[1;32m    419\u001b[0m         \u001b[0margs\u001b[0m \u001b[0;34m=\u001b[0m \u001b[0;34m(\u001b[0m\u001b[0margs\u001b[0m\u001b[0;34m,\u001b[0m\u001b[0;34m)\u001b[0m\u001b[0;34m\u001b[0m\u001b[0;34m\u001b[0m\u001b[0m\n\u001b[0;32m--> 420\u001b[0;31m     \u001b[0mshape\u001b[0m\u001b[0;34m,\u001b[0m \u001b[0mdtype\u001b[0m \u001b[0;34m=\u001b[0m \u001b[0m_check_func\u001b[0m\u001b[0;34m(\u001b[0m\u001b[0;34m'leastsq'\u001b[0m\u001b[0;34m,\u001b[0m \u001b[0;34m'func'\u001b[0m\u001b[0;34m,\u001b[0m \u001b[0mfunc\u001b[0m\u001b[0;34m,\u001b[0m \u001b[0mx0\u001b[0m\u001b[0;34m,\u001b[0m \u001b[0margs\u001b[0m\u001b[0;34m,\u001b[0m \u001b[0mn\u001b[0m\u001b[0;34m)\u001b[0m\u001b[0;34m\u001b[0m\u001b[0;34m\u001b[0m\u001b[0m\n\u001b[0m\u001b[1;32m    421\u001b[0m     \u001b[0mm\u001b[0m \u001b[0;34m=\u001b[0m \u001b[0mshape\u001b[0m\u001b[0;34m[\u001b[0m\u001b[0;36m0\u001b[0m\u001b[0;34m]\u001b[0m\u001b[0;34m\u001b[0m\u001b[0;34m\u001b[0m\u001b[0m\n\u001b[1;32m    422\u001b[0m \u001b[0;34m\u001b[0m\u001b[0m\n",
            "\u001b[0;32m/usr/local/lib/python3.10/dist-packages/scipy/optimize/_minpack_py.py\u001b[0m in \u001b[0;36m_check_func\u001b[0;34m(checker, argname, thefunc, x0, args, numinputs, output_shape)\u001b[0m\n\u001b[1;32m     27\u001b[0m def _check_func(checker, argname, thefunc, x0, args, numinputs,\n\u001b[1;32m     28\u001b[0m                 output_shape=None):\n\u001b[0;32m---> 29\u001b[0;31m     \u001b[0mres\u001b[0m \u001b[0;34m=\u001b[0m \u001b[0matleast_1d\u001b[0m\u001b[0;34m(\u001b[0m\u001b[0mthefunc\u001b[0m\u001b[0;34m(\u001b[0m\u001b[0;34m*\u001b[0m\u001b[0;34m(\u001b[0m\u001b[0;34m(\u001b[0m\u001b[0mx0\u001b[0m\u001b[0;34m[\u001b[0m\u001b[0;34m:\u001b[0m\u001b[0mnuminputs\u001b[0m\u001b[0;34m]\u001b[0m\u001b[0;34m,\u001b[0m\u001b[0;34m)\u001b[0m \u001b[0;34m+\u001b[0m \u001b[0margs\u001b[0m\u001b[0;34m)\u001b[0m\u001b[0;34m)\u001b[0m\u001b[0;34m)\u001b[0m\u001b[0;34m\u001b[0m\u001b[0;34m\u001b[0m\u001b[0m\n\u001b[0m\u001b[1;32m     30\u001b[0m     \u001b[0;32mif\u001b[0m \u001b[0;34m(\u001b[0m\u001b[0moutput_shape\u001b[0m \u001b[0;32mis\u001b[0m \u001b[0;32mnot\u001b[0m \u001b[0;32mNone\u001b[0m\u001b[0;34m)\u001b[0m \u001b[0;32mand\u001b[0m \u001b[0;34m(\u001b[0m\u001b[0mshape\u001b[0m\u001b[0;34m(\u001b[0m\u001b[0mres\u001b[0m\u001b[0;34m)\u001b[0m \u001b[0;34m!=\u001b[0m \u001b[0moutput_shape\u001b[0m\u001b[0;34m)\u001b[0m\u001b[0;34m:\u001b[0m\u001b[0;34m\u001b[0m\u001b[0;34m\u001b[0m\u001b[0m\n\u001b[1;32m     31\u001b[0m         \u001b[0;32mif\u001b[0m \u001b[0;34m(\u001b[0m\u001b[0moutput_shape\u001b[0m\u001b[0;34m[\u001b[0m\u001b[0;36m0\u001b[0m\u001b[0;34m]\u001b[0m \u001b[0;34m!=\u001b[0m \u001b[0;36m1\u001b[0m\u001b[0;34m)\u001b[0m\u001b[0;34m:\u001b[0m\u001b[0;34m\u001b[0m\u001b[0;34m\u001b[0m\u001b[0m\n",
            "\u001b[0;32m/usr/local/lib/python3.10/dist-packages/scipy/optimize/_minpack_py.py\u001b[0m in \u001b[0;36m_memoized_func\u001b[0;34m(params)\u001b[0m\n\u001b[1;32m    516\u001b[0m             \u001b[0m_memoized_func\u001b[0m\u001b[0;34m.\u001b[0m\u001b[0mskip_lookup\u001b[0m \u001b[0;34m=\u001b[0m \u001b[0;32mTrue\u001b[0m\u001b[0;34m\u001b[0m\u001b[0;34m\u001b[0m\u001b[0m\n\u001b[1;32m    517\u001b[0m \u001b[0;34m\u001b[0m\u001b[0m\n\u001b[0;32m--> 518\u001b[0;31m         \u001b[0mval\u001b[0m \u001b[0;34m=\u001b[0m \u001b[0mf\u001b[0m\u001b[0;34m(\u001b[0m\u001b[0mparams\u001b[0m\u001b[0;34m)\u001b[0m\u001b[0;34m\u001b[0m\u001b[0;34m\u001b[0m\u001b[0m\n\u001b[0m\u001b[1;32m    519\u001b[0m \u001b[0;34m\u001b[0m\u001b[0m\n\u001b[1;32m    520\u001b[0m         \u001b[0;32mif\u001b[0m \u001b[0m_memoized_func\u001b[0m\u001b[0;34m.\u001b[0m\u001b[0mlast_params\u001b[0m \u001b[0;32mis\u001b[0m \u001b[0;32mNone\u001b[0m\u001b[0;34m:\u001b[0m\u001b[0;34m\u001b[0m\u001b[0;34m\u001b[0m\u001b[0m\n",
            "\u001b[0;32m/usr/local/lib/python3.10/dist-packages/scipy/optimize/_minpack_py.py\u001b[0m in \u001b[0;36mfunc_wrapped\u001b[0;34m(params)\u001b[0m\n\u001b[1;32m    533\u001b[0m     \u001b[0;32mif\u001b[0m \u001b[0mtransform\u001b[0m \u001b[0;32mis\u001b[0m \u001b[0;32mNone\u001b[0m\u001b[0;34m:\u001b[0m\u001b[0;34m\u001b[0m\u001b[0;34m\u001b[0m\u001b[0m\n\u001b[1;32m    534\u001b[0m         \u001b[0;32mdef\u001b[0m \u001b[0mfunc_wrapped\u001b[0m\u001b[0;34m(\u001b[0m\u001b[0mparams\u001b[0m\u001b[0;34m)\u001b[0m\u001b[0;34m:\u001b[0m\u001b[0;34m\u001b[0m\u001b[0;34m\u001b[0m\u001b[0m\n\u001b[0;32m--> 535\u001b[0;31m             \u001b[0;32mreturn\u001b[0m \u001b[0mfunc\u001b[0m\u001b[0;34m(\u001b[0m\u001b[0mxdata\u001b[0m\u001b[0;34m,\u001b[0m \u001b[0;34m*\u001b[0m\u001b[0mparams\u001b[0m\u001b[0;34m)\u001b[0m \u001b[0;34m-\u001b[0m \u001b[0mydata\u001b[0m\u001b[0;34m\u001b[0m\u001b[0;34m\u001b[0m\u001b[0m\n\u001b[0m\u001b[1;32m    536\u001b[0m     \u001b[0;32melif\u001b[0m \u001b[0mtransform\u001b[0m\u001b[0;34m.\u001b[0m\u001b[0msize\u001b[0m \u001b[0;34m==\u001b[0m \u001b[0;36m1\u001b[0m \u001b[0;32mor\u001b[0m \u001b[0mtransform\u001b[0m\u001b[0;34m.\u001b[0m\u001b[0mndim\u001b[0m \u001b[0;34m==\u001b[0m \u001b[0;36m1\u001b[0m\u001b[0;34m:\u001b[0m\u001b[0;34m\u001b[0m\u001b[0;34m\u001b[0m\u001b[0m\n\u001b[1;32m    537\u001b[0m         \u001b[0;32mdef\u001b[0m \u001b[0mfunc_wrapped\u001b[0m\u001b[0;34m(\u001b[0m\u001b[0mparams\u001b[0m\u001b[0;34m)\u001b[0m\u001b[0;34m:\u001b[0m\u001b[0;34m\u001b[0m\u001b[0;34m\u001b[0m\u001b[0m\n",
            "\u001b[0;31mTypeError\u001b[0m: model_wrapper() takes 2 positional arguments but 3 were given"
          ]
        }
      ]
    },
    {
      "cell_type": "markdown",
      "source": [
        "## Time profile"
      ],
      "metadata": {
        "id": "vUzbEfpDjPsv"
      }
    },
    {
      "cell_type": "code",
      "source": [
        "#1. Output of cell density of animal cell(X)\n",
        "with open(\"./cell density(animal cell).csv\", \"w\") as f:\n",
        "    f.write(f\"t,X\\n\")\n",
        "    for i in range(len(list_time_cell)):\n",
        "      f.write(f\"{list_time_cell[i]},{list_X_cell}\\n\")"
      ],
      "metadata": {
        "id": "ZwhSS5WWGou-"
      },
      "execution_count": null,
      "outputs": []
    },
    {
      "cell_type": "code",
      "source": [
        "#2. Output of cell density of algae(X)\n",
        "with open(\"./cell density(algae).csv\", \"w\") as f:\n",
        "    f.write(f\"t,X\\n\")\n",
        "    for i in range(len(list_time_algae)):\n",
        "      f.write(f\"{list_time_algae[i]},{list_X_algae}\\n\")"
      ],
      "metadata": {
        "id": "6viuOeCe7LNl"
      },
      "execution_count": null,
      "outputs": []
    },
    {
      "cell_type": "code",
      "source": [
        "#3. Output of specific growth rate of animal cell(μ)\n",
        "with open(\"./specific growth rate(animal cell).csv\", \"w\") as f:\n",
        "    f.write(f\"t,u\\n\")\n",
        "    for i in range(len(list_time_cell)):\n",
        "      f.write(f\"{list_time_cell[i]},{list_u_cell[i]}\\n\")"
      ],
      "metadata": {
        "id": "mQ5KoF3yGou_"
      },
      "execution_count": null,
      "outputs": []
    },
    {
      "cell_type": "code",
      "source": [
        "#4. Output of specific growth rate of algae(μ)\n",
        "with open(\"./specific growth rate(algae).csv\", \"w\") as f:\n",
        "    f.write(f\"t,u\\n\")\n",
        "    for i in range(len(list_time_algae)):\n",
        "      f.write(f\"{list_time_algae[i]},{list_u_algae[i]}\\n\")"
      ],
      "metadata": {
        "id": "fAmFFa3o8F-r"
      },
      "execution_count": null,
      "outputs": []
    },
    {
      "cell_type": "code",
      "source": [
        "#5. Output of medium concentration(glucose,lactate,glutamine,ammonia)\n",
        "with open(\"./medium concentration.csv\", \"w\") as f:\n",
        "    f.write(f\"t,Cglc,Clac,Cgln,Camm\\n\")\n",
        "    for i in range(len(list_time)):\n",
        "      f.write(f\"{list_time[i]},{list_Cglc[i]},{list_Clac[i]},{list_Cgln[i]},{list_Camm[i]}\\n\")"
      ],
      "metadata": {
        "id": "2yxOLfYeGou_"
      },
      "execution_count": null,
      "outputs": []
    },
    {
      "cell_type": "markdown",
      "source": [
        "## Graphs"
      ],
      "metadata": {
        "id": "G2sZyAk_6C7C"
      }
    },
    {
      "cell_type": "code",
      "source": [
        "plt.figure()\n",
        "plt.scatter(list_time, list_Clac, label='experimental data', color='red')\n",
        "plt.legend()\n",
        "plt.show()"
      ],
      "metadata": {
        "colab": {
          "base_uri": "https://localhost:8080/",
          "height": 430
        },
        "id": "NxeDnVBFO6d7",
        "outputId": "610c8a8b-cd71-4a69-a972-a368e4d85e2c"
      },
      "execution_count": null,
      "outputs": [
        {
          "output_type": "display_data",
          "data": {
            "text/plain": [
              "<Figure size 640x480 with 1 Axes>"
            ],
            "image/png": "[encoded data removed]"
          },
          "metadata": {}
        }
      ]
    }
  ],
  "metadata": {
    "colab": {
      "provenance": [],
      "collapsed_sections": [
        "fC3KnK_h5HQg",
        "RvDwLziYNB33",
        "amwQc1d3M10X",
        "HS-uYcgZtSA0",
        "xakQsLIYNgiV",
        "lj_oXpSxNymJ",
        "fVielS5FP1w_",
        "EHZd01Wr5wXg",
        "Oe54mduztUL2",
        "vUzbEfpDjPsv",
        "G2sZyAk_6C7C"
      ],
      "authorship_tag": "ABX9TyMfIWzwLavQTNLuXkNzrb3m",
      "include_colab_link": true
    },
    "kernelspec": {
      "display_name": "Python 3",
      "name": "python3"
    },
    "language_info": {
      "name": "python"
    }
  },
  "nbformat": 4,
  "nbformat_minor": 0
}